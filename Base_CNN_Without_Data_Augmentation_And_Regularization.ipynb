{
 "cells": [
  {
   "cell_type": "code",
   "execution_count": 1,
   "metadata": {
    "collapsed": false
   },
   "outputs": [
    {
     "name": "stderr",
     "output_type": "stream",
     "text": [
      "/home/nuru/.local/share/virtualenvs/deepLearn-tC2glvHT/lib/python3.6/site-packages/h5py/__init__.py:36: FutureWarning: Conversion of the second argument of issubdtype from `float` to `np.floating` is deprecated. In future, it will be treated as `np.float64 == np.dtype(float).type`.\n",
      "  from ._conv import register_converters as _register_converters\n",
      "Using TensorFlow backend.\n"
     ]
    }
   ],
   "source": [
    "import numpy as np\n",
    "import keras\n",
    "from keras.models import Sequential\n",
    "from keras.layers import Activation\n",
    "from keras.layers.core import Dense, Flatten\n",
    "from keras.optimizers import Adam\n",
    "from keras.metrics import categorical_crossentropy\n",
    "from keras.preprocessing.image import ImageDataGenerator\n",
    "from keras.layers.normalization import BatchNormalization\n",
    "from keras.layers.convolutional import*\n",
    "from sklearn.metrics import confusion_matrix\n",
    "import itertools\n",
    "import matplotlib.pyplot as plt\n",
    "%matplotlib inline"
   ]
  },
  {
   "cell_type": "code",
   "execution_count": 2,
   "metadata": {
    "collapsed": true
   },
   "outputs": [],
   "source": [
    "train_path = 'data/train'\n",
    "validation_path = 'data/validation'\n",
    "test_path = 'data/test'"
   ]
  },
  {
   "cell_type": "code",
   "execution_count": 3,
   "metadata": {
    "collapsed": false
   },
   "outputs": [
    {
     "name": "stdout",
     "output_type": "stream",
     "text": [
      "Found 600 images belonging to 2 classes.\n",
      "Found 300 images belonging to 2 classes.\n",
      "Found 300 images belonging to 2 classes.\n"
     ]
    }
   ],
   "source": [
    "train_batches = ImageDataGenerator().flow_from_directory(train_path,target_size=(64,64),classes=['cropland','building'],batch_size=50)\n",
    "validation_batches = ImageDataGenerator().flow_from_directory(validation_path,target_size=(64,64),classes=['cropland','building'],batch_size=30)\n",
    "test_batches = ImageDataGenerator().flow_from_directory(test_path,target_size=(64,64),classes=['cropland','building'],batch_size=30)"
   ]
  },
  {
   "cell_type": "code",
   "execution_count": 4,
   "metadata": {
    "collapsed": true
   },
   "outputs": [],
   "source": [
    "def plots (ims, figsize=(12,6), rows=1, interp=False, titles=None):\n",
    "    if type (ims [0]) is np.ndarray:\n",
    "        ims = np.array(ims).astype(np.uint8)\n",
    "        if (ims.shape[-1] != 3):\n",
    "            ims.transpose((0,2,3,1))\n",
    "    f = plt.figure(figsize=figsize)\n",
    "    cols = len(ims)//rows if len(ims) %2 == 0 else len(ims)//rows + 1\n",
    "    for i in range (len(ims)):\n",
    "        sp = f.add_subplot(rows, cols, i+1)\n",
    "        sp.axis('off')\n",
    "        if titles is not None:\n",
    "            sp.set_title(titles[i], fontsize=16)\n",
    "        plt.imshow(ims[i], interpolation=None if interp else 'none')"
   ]
  },
  {
   "cell_type": "code",
   "execution_count": 5,
   "metadata": {
    "collapsed": true
   },
   "outputs": [],
   "source": [
    "imgs, labels = next(train_batches)"
   ]
  },
  {
   "cell_type": "code",
   "execution_count": 6,
   "metadata": {
    "collapsed": true
   },
   "outputs": [],
   "source": [
    "#plots(imgs, titles=labels)"
   ]
  },
  {
   "cell_type": "markdown",
   "metadata": {},
   "source": [
    "# BUILD AND TRAIN THE CNN"
   ]
  },
  {
   "cell_type": "code",
   "execution_count": 7,
   "metadata": {
    "collapsed": true
   },
   "outputs": [],
   "source": [
    "from keras import layers\n",
    "from keras import models\n",
    "model = models.Sequential()\n",
    "\n",
    "model.add(layers.Conv2D(32,(3,3), activation='relu',input_shape=(64,64,3)))\n",
    "model.add(layers.MaxPooling2D((2, 2)))\n",
    "\n",
    "model.add(layers.Conv2D(64, (3, 3), activation='relu'))\n",
    "model.add(layers.MaxPooling2D((2, 2)))\n",
    "                                                                    \n",
    "model.add(layers.Conv2D(128, (3, 3), activation='relu'))\n",
    "model.add(layers.MaxPooling2D((2, 2)))\n",
    "\n",
    "model.add(layers.Conv2D(128, (3, 3), activation='relu'))\n",
    "model.add(layers.MaxPooling2D((2, 2)))\n",
    "\n",
    "model.add(layers.Flatten())\n",
    "model.add(layers.Dense(512, activation='relu'))\n",
    "model.add(layers.Dense(2, activation='softmax'))"
   ]
  },
  {
   "cell_type": "code",
   "execution_count": 8,
   "metadata": {
    "collapsed": true
   },
   "outputs": [],
   "source": [
    "model.compile(Adam (lr=.0001), loss='categorical_crossentropy', metrics=['accuracy'])"
   ]
  },
  {
   "cell_type": "code",
   "execution_count": 9,
   "metadata": {
    "collapsed": false
   },
   "outputs": [
    {
     "name": "stdout",
     "output_type": "stream",
     "text": [
      "Epoch 1/25\n",
      " - 30s - loss: 2.8458 - acc: 0.5950 - val_loss: 2.0531 - val_acc: 0.5800\n",
      "Epoch 2/25\n",
      " - 26s - loss: 0.6928 - acc: 0.8150 - val_loss: 0.6175 - val_acc: 0.8367\n",
      "Epoch 3/25\n",
      " - 26s - loss: 0.3189 - acc: 0.8967 - val_loss: 0.3000 - val_acc: 0.9000\n",
      "Epoch 4/25\n",
      " - 43s - loss: 0.2101 - acc: 0.9283 - val_loss: 0.2220 - val_acc: 0.9233\n",
      "Epoch 5/25\n",
      " - 41s - loss: 0.1530 - acc: 0.9483 - val_loss: 0.1498 - val_acc: 0.9533\n",
      "Epoch 6/25\n",
      " - 27s - loss: 0.1763 - acc: 0.9450 - val_loss: 0.1426 - val_acc: 0.9500\n",
      "Epoch 7/25\n",
      " - 34s - loss: 0.2023 - acc: 0.9350 - val_loss: 0.2061 - val_acc: 0.9233\n",
      "Epoch 8/25\n",
      " - 32s - loss: 0.1277 - acc: 0.9617 - val_loss: 0.2133 - val_acc: 0.9167\n",
      "Epoch 9/25\n",
      " - 29s - loss: 0.0873 - acc: 0.9700 - val_loss: 0.1550 - val_acc: 0.9367\n",
      "Epoch 10/25\n",
      " - 34s - loss: 0.0500 - acc: 0.9850 - val_loss: 0.1281 - val_acc: 0.9533\n",
      "Epoch 11/25\n",
      " - 34s - loss: 0.0341 - acc: 0.9950 - val_loss: 0.1143 - val_acc: 0.9567\n",
      "Epoch 12/25\n",
      " - 34s - loss: 0.0347 - acc: 0.9917 - val_loss: 0.1365 - val_acc: 0.9367\n",
      "Epoch 13/25\n",
      " - 42s - loss: 0.0533 - acc: 0.9733 - val_loss: 0.2080 - val_acc: 0.9200\n",
      "Epoch 14/25\n",
      " - 32s - loss: 0.0415 - acc: 0.9833 - val_loss: 0.1169 - val_acc: 0.9533\n",
      "Epoch 15/25\n",
      " - 34s - loss: 0.0336 - acc: 0.9900 - val_loss: 0.1368 - val_acc: 0.9500\n",
      "Epoch 16/25\n",
      " - 33s - loss: 0.0237 - acc: 0.9950 - val_loss: 0.1205 - val_acc: 0.9533\n",
      "Epoch 17/25\n",
      " - 31s - loss: 0.0183 - acc: 0.9950 - val_loss: 0.1138 - val_acc: 0.9567\n",
      "Epoch 18/25\n",
      " - 33s - loss: 0.0188 - acc: 0.9967 - val_loss: 0.1180 - val_acc: 0.9500\n",
      "Epoch 19/25\n",
      " - 30s - loss: 0.0146 - acc: 0.9983 - val_loss: 0.1245 - val_acc: 0.9500\n",
      "Epoch 20/25\n",
      " - 30s - loss: 0.0149 - acc: 0.9983 - val_loss: 0.1108 - val_acc: 0.9600\n",
      "Epoch 21/25\n",
      " - 30s - loss: 0.0108 - acc: 1.0000 - val_loss: 0.1099 - val_acc: 0.9567\n",
      "Epoch 22/25\n",
      " - 32s - loss: 0.0126 - acc: 1.0000 - val_loss: 0.1158 - val_acc: 0.9533\n",
      "Epoch 23/25\n",
      " - 36s - loss: 0.0104 - acc: 1.0000 - val_loss: 0.1159 - val_acc: 0.9533\n",
      "Epoch 24/25\n",
      " - 35s - loss: 0.0102 - acc: 0.9983 - val_loss: 0.1121 - val_acc: 0.9567\n",
      "Epoch 25/25\n",
      " - 31s - loss: 0.0084 - acc: 1.0000 - val_loss: 0.1110 - val_acc: 0.9567\n"
     ]
    }
   ],
   "source": [
    "history = model.fit_generator(train_batches, steps_per_epoch=12, validation_data=validation_batches, validation_steps=10, epochs=25, verbose=2)"
   ]
  },
  {
   "cell_type": "code",
   "execution_count": 10,
   "metadata": {
    "collapsed": false
   },
   "outputs": [
    {
     "data": {
      "image/png": "[encoded data removed]",
      "text/plain": [
       "<Figure size 432x288 with 1 Axes>"
      ]
     },
     "metadata": {},
     "output_type": "display_data"
    },
    {
     "data": {
      "image/png": "[encoded data removed]",
      "text/plain": [
       "<Figure size 432x288 with 1 Axes>"
      ]
     },
     "metadata": {},
     "output_type": "display_data"
    }
   ],
   "source": [
    "acc = history.history['acc']\n",
    "val_acc = history.history['val_acc']\n",
    "loss = history.history['loss']\n",
    "val_loss = history.history['val_loss']\n",
    "\n",
    "epochs = range(1, len(acc) + 1)\n",
    "\n",
    "plt.plot(epochs, acc, 'bo', label='Training acc')\n",
    "plt.plot(epochs, val_acc, 'b', label='Validation acc')\n",
    "plt.title('Training and validation accuracy')\n",
    "plt.legend()\n",
    "plt.xlabel('Number of Epochs')\n",
    "plt.ylabel('Accuracy')\n",
    "\n",
    "\n",
    "plt.figure()\n",
    "\n",
    "plt.plot(epochs, loss, 'bo', label='Training loss')\n",
    "plt.plot(epochs, val_loss, 'b', label='Validation loss')\n",
    "plt.title('Training and validation loss')\n",
    "plt.legend()\n",
    "plt.xlabel('Number of Epochs')\n",
    "plt.ylabel('Loss')\n",
    "\n",
    "\n",
    "plt.show()"
   ]
  },
  {
   "cell_type": "code",
   "execution_count": 11,
   "metadata": {
    "collapsed": true
   },
   "outputs": [],
   "source": [
    "#model.summary()"
   ]
  },
  {
   "cell_type": "markdown",
   "metadata": {},
   "source": [
    "# making the predictions"
   ]
  },
  {
   "cell_type": "code",
   "execution_count": 12,
   "metadata": {
    "collapsed": true
   },
   "outputs": [],
   "source": [
    "test_labels = test_batches.classes"
   ]
  },
  {
   "cell_type": "code",
   "execution_count": 13,
   "metadata": {
    "collapsed": false
   },
   "outputs": [
    {
     "data": {
      "text/plain": [
       "array([0, 0, 0, 0, 0, 0, 0, 0, 0, 0, 0, 0, 0, 0, 0, 0, 0, 0, 0, 0, 0, 0,\n",
       "       0, 0, 0, 0, 0, 0, 0, 0, 0, 0, 0, 0, 0, 0, 0, 0, 0, 0, 0, 0, 0, 0,\n",
       "       0, 0, 0, 0, 0, 0, 0, 0, 0, 0, 0, 0, 0, 0, 0, 0, 0, 0, 0, 0, 0, 0,\n",
       "       0, 0, 0, 0, 0, 0, 0, 0, 0, 0, 0, 0, 0, 0, 0, 0, 0, 0, 0, 0, 0, 0,\n",
       "       0, 0, 0, 0, 0, 0, 0, 0, 0, 0, 0, 0, 0, 0, 0, 0, 0, 0, 0, 0, 0, 0,\n",
       "       0, 0, 0, 0, 0, 0, 0, 0, 0, 0, 0, 0, 0, 0, 0, 0, 0, 0, 0, 0, 0, 0,\n",
       "       0, 0, 0, 0, 0, 0, 0, 0, 0, 0, 0, 0, 0, 0, 0, 0, 0, 0, 1, 1, 1, 1,\n",
       "       1, 1, 1, 1, 1, 1, 1, 1, 1, 1, 1, 1, 1, 1, 1, 1, 1, 1, 1, 1, 1, 1,\n",
       "       1, 1, 1, 1, 1, 1, 1, 1, 1, 1, 1, 1, 1, 1, 1, 1, 1, 1, 1, 1, 1, 1,\n",
       "       1, 1, 1, 1, 1, 1, 1, 1, 1, 1, 1, 1, 1, 1, 1, 1, 1, 1, 1, 1, 1, 1,\n",
       "       1, 1, 1, 1, 1, 1, 1, 1, 1, 1, 1, 1, 1, 1, 1, 1, 1, 1, 1, 1, 1, 1,\n",
       "       1, 1, 1, 1, 1, 1, 1, 1, 1, 1, 1, 1, 1, 1, 1, 1, 1, 1, 1, 1, 1, 1,\n",
       "       1, 1, 1, 1, 1, 1, 1, 1, 1, 1, 1, 1, 1, 1, 1, 1, 1, 1, 1, 1, 1, 1,\n",
       "       1, 1, 1, 1, 1, 1, 1, 1, 1, 1, 1, 1, 1, 1], dtype=int32)"
      ]
     },
     "execution_count": 13,
     "metadata": {},
     "output_type": "execute_result"
    }
   ],
   "source": [
    "test_labels"
   ]
  },
  {
   "cell_type": "code",
   "execution_count": 14,
   "metadata": {
    "collapsed": true
   },
   "outputs": [],
   "source": [
    "predictions = model.predict_generator(test_batches, steps=10, verbose=0)"
   ]
  },
  {
   "cell_type": "code",
   "execution_count": 15,
   "metadata": {
    "collapsed": false
   },
   "outputs": [
    {
     "data": {
      "text/plain": [
       "array([[9.27002111e-05, 9.99907255e-01],\n",
       "       [7.64379147e-05, 9.99923587e-01],\n",
       "       [3.14132369e-04, 9.99685884e-01],\n",
       "       [9.99810994e-01, 1.89075450e-04],\n",
       "       [1.88009744e-06, 9.99998093e-01],\n",
       "       [9.99952435e-01, 4.75378547e-05],\n",
       "       [9.86140370e-01, 1.38595933e-02],\n",
       "       [3.27104628e-01, 6.72895312e-01],\n",
       "       [9.99971747e-01, 2.82883029e-05],\n",
       "       [9.99330997e-01, 6.69019180e-04],\n",
       "       [8.26355696e-01, 1.73644245e-01],\n",
       "       [9.99133646e-01, 8.66411021e-04],\n",
       "       [2.30565388e-03, 9.97694314e-01],\n",
       "       [9.99978542e-01, 2.14708361e-05],\n",
       "       [9.34744775e-01, 6.52552322e-02],\n",
       "       [2.04673615e-05, 9.99979496e-01],\n",
       "       [2.52383237e-04, 9.99747574e-01],\n",
       "       [2.02649520e-04, 9.99797404e-01],\n",
       "       [6.61400020e-01, 3.38599980e-01],\n",
       "       [9.99959707e-01, 4.03399936e-05],\n",
       "       [5.94100638e-05, 9.99940634e-01],\n",
       "       [2.14832142e-01, 7.85167873e-01],\n",
       "       [9.54299569e-01, 4.57004756e-02],\n",
       "       [1.03291546e-04, 9.99896646e-01],\n",
       "       [3.45843695e-02, 9.65415597e-01],\n",
       "       [9.99997258e-01, 2.78256584e-06],\n",
       "       [9.99948502e-01, 5.15097599e-05],\n",
       "       [1.54726205e-08, 1.00000000e+00],\n",
       "       [4.24098034e-05, 9.99957561e-01],\n",
       "       [4.33164241e-04, 9.99566853e-01],\n",
       "       [9.52278912e-01, 4.77210470e-02],\n",
       "       [6.00920380e-09, 1.00000000e+00],\n",
       "       [7.75963426e-01, 2.24036545e-01],\n",
       "       [9.98421669e-01, 1.57839071e-03],\n",
       "       [1.54662455e-04, 9.99845266e-01],\n",
       "       [2.07928656e-06, 9.99997973e-01],\n",
       "       [7.49744402e-07, 9.99999285e-01],\n",
       "       [2.83855661e-06, 9.99997139e-01],\n",
       "       [9.94520247e-01, 5.47974231e-03],\n",
       "       [9.25839032e-08, 9.99999881e-01],\n",
       "       [7.32843220e-01, 2.67156780e-01],\n",
       "       [2.49162781e-07, 9.99999762e-01],\n",
       "       [4.76070493e-03, 9.95239258e-01],\n",
       "       [9.99970913e-01, 2.91179640e-05],\n",
       "       [9.99972939e-01, 2.70990586e-05],\n",
       "       [4.69204097e-04, 9.99530792e-01],\n",
       "       [2.55706860e-03, 9.97442961e-01],\n",
       "       [3.60504764e-08, 1.00000000e+00],\n",
       "       [2.91108474e-04, 9.99708831e-01],\n",
       "       [1.74632706e-02, 9.82536733e-01],\n",
       "       [1.69488718e-03, 9.98305082e-01],\n",
       "       [4.13627811e-02, 9.58637238e-01],\n",
       "       [9.99563634e-01, 4.36389906e-04],\n",
       "       [7.21050262e-01, 2.78949678e-01],\n",
       "       [8.27478528e-01, 1.72521457e-01],\n",
       "       [9.40918386e-01, 5.90816103e-02],\n",
       "       [4.69906723e-07, 9.99999523e-01],\n",
       "       [9.94962215e-01, 5.03780041e-03],\n",
       "       [9.26919460e-01, 7.30805695e-02],\n",
       "       [9.89671826e-01, 1.03281476e-02],\n",
       "       [1.95647940e-01, 8.04351985e-01],\n",
       "       [9.99999642e-01, 3.09977764e-07],\n",
       "       [9.76466026e-07, 9.99999046e-01],\n",
       "       [1.30925409e-03, 9.98690784e-01],\n",
       "       [4.04574960e-01, 5.95425010e-01],\n",
       "       [9.99991179e-01, 8.76844388e-06],\n",
       "       [1.23705723e-09, 1.00000000e+00],\n",
       "       [9.97149885e-01, 2.85010319e-03],\n",
       "       [5.34251094e-01, 4.65748847e-01],\n",
       "       [4.82053679e-07, 9.99999523e-01],\n",
       "       [2.39303248e-04, 9.99760687e-01],\n",
       "       [2.22980138e-02, 9.77702022e-01],\n",
       "       [9.99999642e-01, 3.72909568e-07],\n",
       "       [2.08770107e-05, 9.99979138e-01],\n",
       "       [6.11856341e-01, 3.88143659e-01],\n",
       "       [7.51845235e-08, 9.99999881e-01],\n",
       "       [4.04183805e-01, 5.95816195e-01],\n",
       "       [8.40801716e-01, 1.59198254e-01],\n",
       "       [7.10310303e-07, 9.99999285e-01],\n",
       "       [9.87757683e-01, 1.22423125e-02],\n",
       "       [2.80757124e-08, 1.00000000e+00],\n",
       "       [9.34196889e-01, 6.58031255e-02],\n",
       "       [1.84341698e-05, 9.99981523e-01],\n",
       "       [3.10995709e-08, 1.00000000e+00],\n",
       "       [7.52650321e-01, 2.47349665e-01],\n",
       "       [9.49362657e-05, 9.99905109e-01],\n",
       "       [1.74803205e-03, 9.98251975e-01],\n",
       "       [2.34891687e-07, 9.99999762e-01],\n",
       "       [1.28037296e-03, 9.98719692e-01],\n",
       "       [2.87067037e-09, 1.00000000e+00],\n",
       "       [1.12432544e-05, 9.99988794e-01],\n",
       "       [3.39640021e-01, 6.60359979e-01],\n",
       "       [4.12828886e-05, 9.99958754e-01],\n",
       "       [2.33291019e-07, 9.99999762e-01],\n",
       "       [9.34060812e-01, 6.59391433e-02],\n",
       "       [9.94430006e-01, 5.56993764e-03],\n",
       "       [9.32026625e-01, 6.79733902e-02],\n",
       "       [1.00473386e-07, 9.99999881e-01],\n",
       "       [3.81529759e-07, 9.99999642e-01],\n",
       "       [2.53454164e-06, 9.99997497e-01],\n",
       "       [3.13493320e-09, 1.00000000e+00],\n",
       "       [9.99990463e-01, 9.55074574e-06],\n",
       "       [9.97815251e-01, 2.18479033e-03],\n",
       "       [9.97756183e-01, 2.24384130e-03],\n",
       "       [9.99967933e-01, 3.21082371e-05],\n",
       "       [1.65091001e-06, 9.99998331e-01],\n",
       "       [9.99995828e-01, 4.13062935e-06],\n",
       "       [9.79485452e-01, 2.05145609e-02],\n",
       "       [3.26203386e-04, 9.99673843e-01],\n",
       "       [1.04987365e-03, 9.98950183e-01],\n",
       "       [9.99970555e-01, 2.94446145e-05],\n",
       "       [6.37499928e-01, 3.62500101e-01],\n",
       "       [1.38890550e-01, 8.61109436e-01],\n",
       "       [3.07875555e-02, 9.69212413e-01],\n",
       "       [2.24099276e-05, 9.99977589e-01],\n",
       "       [9.97057199e-01, 2.94279307e-03],\n",
       "       [4.75173729e-05, 9.99952435e-01],\n",
       "       [4.61268523e-12, 1.00000000e+00],\n",
       "       [9.99014020e-01, 9.85989464e-04],\n",
       "       [9.22255907e-08, 9.99999881e-01],\n",
       "       [8.32714868e-05, 9.99916673e-01],\n",
       "       [2.98275739e-01, 7.01724231e-01],\n",
       "       [1.42995978e-05, 9.99985695e-01],\n",
       "       [9.94940758e-01, 5.05926600e-03],\n",
       "       [6.09737981e-07, 9.99999404e-01],\n",
       "       [9.83983228e-10, 1.00000000e+00],\n",
       "       [1.06082851e-10, 1.00000000e+00],\n",
       "       [2.48228862e-05, 9.99975204e-01],\n",
       "       [1.82297470e-07, 9.99999762e-01],\n",
       "       [9.99998808e-01, 1.21466701e-06],\n",
       "       [9.77132499e-01, 2.28675846e-02],\n",
       "       [9.99992967e-01, 7.05631965e-06],\n",
       "       [9.77740526e-01, 2.22594570e-02],\n",
       "       [6.37499928e-01, 3.62500101e-01],\n",
       "       [1.52937265e-03, 9.98470604e-01],\n",
       "       [9.99992847e-01, 7.20927119e-06],\n",
       "       [7.69720227e-02, 9.23028052e-01],\n",
       "       [1.26501538e-08, 1.00000000e+00],\n",
       "       [9.99965429e-01, 3.45687513e-05],\n",
       "       [2.71321824e-05, 9.99972820e-01],\n",
       "       [2.94569727e-05, 9.99970555e-01],\n",
       "       [5.65814595e-09, 1.00000000e+00],\n",
       "       [1.42053422e-03, 9.98579502e-01],\n",
       "       [1.93488702e-01, 8.06511283e-01],\n",
       "       [7.78001189e-01, 2.21998826e-01],\n",
       "       [9.81230676e-01, 1.87693015e-02],\n",
       "       [8.34748789e-06, 9.99991655e-01],\n",
       "       [5.65894197e-07, 9.99999404e-01],\n",
       "       [1.30925153e-03, 9.98690784e-01],\n",
       "       [1.55874389e-07, 9.99999881e-01],\n",
       "       [6.40857206e-06, 9.99993563e-01],\n",
       "       [7.57663202e-07, 9.99999285e-01],\n",
       "       [6.41326142e-06, 9.99993563e-01],\n",
       "       [9.37119782e-01, 6.28802478e-02],\n",
       "       [3.46073024e-02, 9.65392709e-01],\n",
       "       [9.27118003e-01, 7.28820339e-02],\n",
       "       [2.53454164e-06, 9.99997497e-01],\n",
       "       [7.32837081e-01, 2.67162949e-01],\n",
       "       [3.14132369e-04, 9.99685884e-01],\n",
       "       [9.99393702e-01, 6.06331450e-04],\n",
       "       [7.74140244e-06, 9.99992251e-01],\n",
       "       [8.09395671e-01, 1.90604389e-01],\n",
       "       [3.58628750e-01, 6.41371310e-01],\n",
       "       [1.54726205e-08, 1.00000000e+00],\n",
       "       [5.66092273e-03, 9.94339049e-01],\n",
       "       [3.27104628e-01, 6.72895312e-01],\n",
       "       [9.91870046e-01, 8.12999066e-03],\n",
       "       [3.16883950e-03, 9.96831119e-01],\n",
       "       [6.75130778e-08, 9.99999881e-01],\n",
       "       [5.72985291e-01, 4.27014679e-01],\n",
       "       [1.67580124e-03, 9.98324215e-01],\n",
       "       [5.65659519e-08, 1.00000000e+00],\n",
       "       [9.99985814e-01, 1.42425597e-05],\n",
       "       [5.40354755e-04, 9.99459684e-01],\n",
       "       [2.30669642e-07, 9.99999762e-01],\n",
       "       [9.06321287e-01, 9.36787277e-02],\n",
       "       [1.32074856e-05, 9.99986768e-01],\n",
       "       [3.37065347e-02, 9.66293454e-01],\n",
       "       [7.89418555e-05, 9.99921083e-01],\n",
       "       [9.99992371e-01, 7.58272063e-06],\n",
       "       [6.72267854e-01, 3.27732176e-01],\n",
       "       [9.98031437e-01, 1.96849485e-03],\n",
       "       [9.98844385e-01, 1.15556607e-03],\n",
       "       [9.99721825e-01, 2.78142572e-04],\n",
       "       [4.51911986e-01, 5.48087955e-01],\n",
       "       [7.58555174e-01, 2.41444856e-01],\n",
       "       [9.03272450e-01, 9.67275426e-02],\n",
       "       [8.88954997e-01, 1.11044958e-01],\n",
       "       [1.55996636e-01, 8.44003379e-01],\n",
       "       [9.09012794e-01, 9.09871832e-02],\n",
       "       [2.83195568e-05, 9.99971628e-01],\n",
       "       [1.12390274e-03, 9.98876035e-01],\n",
       "       [7.36780465e-01, 2.63219506e-01],\n",
       "       [9.93513525e-01, 6.48653042e-03],\n",
       "       [3.50541595e-05, 9.99964952e-01],\n",
       "       [1.89285602e-05, 9.99981046e-01],\n",
       "       [9.99753654e-01, 2.46305397e-04],\n",
       "       [3.90766317e-08, 1.00000000e+00],\n",
       "       [9.99999642e-01, 4.04410628e-07],\n",
       "       [2.60758359e-04, 9.99739230e-01],\n",
       "       [6.00920380e-09, 1.00000000e+00],\n",
       "       [2.80792098e-02, 9.71920729e-01],\n",
       "       [1.60835981e-02, 9.83916461e-01],\n",
       "       [1.75453417e-04, 9.99824584e-01],\n",
       "       [2.81732923e-06, 9.99997139e-01],\n",
       "       [9.26443040e-01, 7.35569373e-02],\n",
       "       [7.08719426e-06, 9.99992967e-01],\n",
       "       [4.65163943e-08, 1.00000000e+00],\n",
       "       [8.87460470e-01, 1.12539507e-01],\n",
       "       [4.26275001e-05, 9.99957323e-01],\n",
       "       [9.72130775e-01, 2.78692413e-02],\n",
       "       [8.99562091e-10, 1.00000000e+00],\n",
       "       [1.35563778e-06, 9.99998689e-01],\n",
       "       [3.88223038e-04, 9.99611795e-01],\n",
       "       [9.99946237e-01, 5.37355081e-05],\n",
       "       [5.07312156e-02, 9.49268818e-01],\n",
       "       [1.17487758e-01, 8.82512212e-01],\n",
       "       [2.81732923e-06, 9.99997139e-01],\n",
       "       [9.96832430e-01, 3.16752028e-03],\n",
       "       [1.04725336e-06, 9.99998927e-01],\n",
       "       [9.45563253e-04, 9.99054492e-01],\n",
       "       [9.99997258e-01, 2.79406686e-06],\n",
       "       [9.98257220e-01, 1.74276961e-03],\n",
       "       [9.99994516e-01, 5.45205421e-06],\n",
       "       [5.13610265e-09, 1.00000000e+00],\n",
       "       [7.41329312e-01, 2.58670747e-01],\n",
       "       [9.62997198e-01, 3.70028280e-02],\n",
       "       [6.41916633e-01, 3.58083397e-01],\n",
       "       [4.41795319e-01, 5.58204710e-01],\n",
       "       [2.99416979e-06, 9.99997020e-01],\n",
       "       [7.47490525e-01, 2.52509505e-01],\n",
       "       [1.04987365e-03, 9.98950183e-01],\n",
       "       [9.96016085e-01, 3.98386084e-03],\n",
       "       [7.51845235e-08, 9.99999881e-01],\n",
       "       [9.97876406e-01, 2.12363922e-03],\n",
       "       [1.88633241e-02, 9.81136739e-01],\n",
       "       [9.42192435e-01, 5.78075014e-02],\n",
       "       [2.22414659e-04, 9.99777615e-01],\n",
       "       [8.34621012e-01, 1.65378973e-01],\n",
       "       [3.34192465e-11, 1.00000000e+00],\n",
       "       [6.55481815e-01, 3.44518155e-01],\n",
       "       [5.76765716e-01, 4.23234284e-01],\n",
       "       [9.99954224e-01, 4.58094510e-05],\n",
       "       [1.22398351e-05, 9.99987721e-01],\n",
       "       [9.71994638e-01, 2.80053932e-02],\n",
       "       [2.85622992e-09, 1.00000000e+00],\n",
       "       [1.91987315e-09, 1.00000000e+00],\n",
       "       [9.97094154e-01, 2.90585775e-03],\n",
       "       [9.92625058e-01, 7.37488829e-03],\n",
       "       [9.99941230e-01, 5.87336326e-05],\n",
       "       [9.99999523e-01, 4.59135606e-07],\n",
       "       [7.90861726e-01, 2.09138229e-01],\n",
       "       [3.70462549e-05, 9.99962926e-01],\n",
       "       [9.99865055e-01, 1.34942704e-04],\n",
       "       [2.62612272e-02, 9.73738790e-01],\n",
       "       [9.48220119e-03, 9.90517795e-01],\n",
       "       [5.65814595e-09, 1.00000000e+00],\n",
       "       [4.57240373e-01, 5.42759597e-01],\n",
       "       [7.21528053e-01, 2.78471917e-01],\n",
       "       [1.08796264e-07, 9.99999881e-01],\n",
       "       [9.99999046e-01, 9.34478749e-07],\n",
       "       [9.93731320e-01, 6.26859814e-03],\n",
       "       [9.87358630e-01, 1.26413656e-02],\n",
       "       [1.18502081e-04, 9.99881506e-01],\n",
       "       [7.01230586e-01, 2.98769414e-01],\n",
       "       [2.65125990e-01, 7.34874070e-01],\n",
       "       [1.14766555e-03, 9.98852372e-01],\n",
       "       [4.89902857e-04, 9.99510050e-01],\n",
       "       [8.94347847e-01, 1.05652176e-01],\n",
       "       [9.98093665e-01, 1.90637063e-03],\n",
       "       [1.49840332e-06, 9.99998450e-01],\n",
       "       [9.99568641e-01, 4.31387161e-04],\n",
       "       [7.34672554e-08, 9.99999881e-01],\n",
       "       [4.33797286e-05, 9.99956608e-01],\n",
       "       [9.98784721e-01, 1.21530518e-03],\n",
       "       [2.83855661e-06, 9.99997139e-01],\n",
       "       [9.27969038e-01, 7.20309466e-02],\n",
       "       [1.52922748e-02, 9.84707713e-01],\n",
       "       [5.28511822e-01, 4.71488208e-01],\n",
       "       [7.64920458e-07, 9.99999285e-01],\n",
       "       [9.92644310e-01, 7.35564530e-03],\n",
       "       [3.16016644e-01, 6.83983326e-01],\n",
       "       [7.15022609e-02, 9.28497791e-01],\n",
       "       [8.11827421e-01, 1.88172564e-01],\n",
       "       [7.77171254e-01, 2.22828761e-01],\n",
       "       [1.00473386e-07, 9.99999881e-01],\n",
       "       [9.99317765e-01, 6.82197569e-04],\n",
       "       [9.99826729e-01, 1.73358087e-04],\n",
       "       [2.98367962e-02, 9.70163167e-01],\n",
       "       [5.77003848e-05, 9.99942303e-01],\n",
       "       [3.65373790e-01, 6.34626269e-01],\n",
       "       [2.79241353e-01, 7.20758677e-01],\n",
       "       [9.99999881e-01, 1.18406234e-07],\n",
       "       [8.55943649e-10, 1.00000000e+00],\n",
       "       [1.71343327e-05, 9.99982834e-01],\n",
       "       [7.47634828e-01, 2.52365142e-01],\n",
       "       [9.63924170e-01, 3.60757820e-02],\n",
       "       [6.11211777e-01, 3.88788193e-01],\n",
       "       [8.48387481e-06, 9.99991536e-01],\n",
       "       [9.66761172e-01, 3.32388654e-02]], dtype=float32)"
      ]
     },
     "execution_count": 15,
     "metadata": {},
     "output_type": "execute_result"
    }
   ],
   "source": [
    "predictions"
   ]
  },
  {
   "cell_type": "code",
   "execution_count": 16,
   "metadata": {
    "collapsed": true
   },
   "outputs": [],
   "source": [
    "#predictions.size"
   ]
  },
  {
   "cell_type": "code",
   "execution_count": 17,
   "metadata": {
    "collapsed": true
   },
   "outputs": [],
   "source": [
    "def plot_confusion_matrix(cm, classes, normalize=False, title='Confusion Matrix', cmap=plt.cm.Blues):\n",
    "    '''This fnctn prints and plots cm, normalization can be applied by setting 'normalize=True'. ''' \n",
    "    plt.imshow (cm, interpolation='nearest', cmap=cmap)\n",
    "    plt.title(title)\n",
    "    plt.colorbar()\n",
    "    tick_marks=np.arange(len(classes))\n",
    "    plt.xticks(tick_marks, classes, rotation=45)\n",
    "    plt.yticks(tick_marks, classes)\n",
    "    \n",
    "    if normalize:\n",
    "        cm=cm.astype('float')/cm.sum(axis=1)[:,np.newaxis]\n",
    "        print('Normalized Confusion Matrix')\n",
    "    else:\n",
    "        print('Confusion Matrix Without Normalization')\n",
    "    print(cm)\n",
    "    \n",
    "    \n",
    "    thresh = cm.max()/2.\n",
    "    for i,j in itertools.product(range(cm.shape[0]), range(cm.shape[1])):\n",
    "        plt.text(j,i,cm[i,j], horizontalalignment=\"center\", color=\"white\" if cm [i,j]>thresh else \"black\")\n",
    "    \n",
    "    plt.tight_layout\n",
    "    plt.ylabel('True label')\n",
    "    plt.xlabel('Predicted label')"
   ]
  },
  {
   "cell_type": "code",
   "execution_count": 18,
   "metadata": {
    "collapsed": true
   },
   "outputs": [],
   "source": [
    "#predictions.argmax(axis=1).size"
   ]
  },
  {
   "cell_type": "code",
   "execution_count": 19,
   "metadata": {
    "collapsed": true
   },
   "outputs": [],
   "source": [
    "#test_labels.size"
   ]
  },
  {
   "cell_type": "code",
   "execution_count": 20,
   "metadata": {
    "collapsed": true,
    "scrolled": true
   },
   "outputs": [],
   "source": [
    "cm = confusion_matrix(test_labels, predictions.argmax(axis=1))"
   ]
  },
  {
   "cell_type": "code",
   "execution_count": 21,
   "metadata": {
    "collapsed": false
   },
   "outputs": [
    {
     "data": {
      "text/plain": [
       "{'building': 1, 'cropland': 0}"
      ]
     },
     "execution_count": 21,
     "metadata": {},
     "output_type": "execute_result"
    }
   ],
   "source": [
    "test_batches.class_indices"
   ]
  },
  {
   "cell_type": "code",
   "execution_count": 22,
   "metadata": {
    "collapsed": false
   },
   "outputs": [
    {
     "name": "stdout",
     "output_type": "stream",
     "text": [
      "Confusion Matrix Without Normalization\n",
      "[[61 89]\n",
      " [69 81]]\n"
     ]
    },
    {
     "data": {
      "image/png": "[encoded data removed]",
      "text/plain": [
       "<Figure size 432x288 with 2 Axes>"
      ]
     },
     "metadata": {},
     "output_type": "display_data"
    }
   ],
   "source": [
    "cm_plot_labels = ['bulding','cropland']\n",
    "plot_confusion_matrix(cm, cm_plot_labels, title = 'Confusion Matrix')"
   ]
  },
  {
   "cell_type": "code",
   "execution_count": 23,
   "metadata": {
    "collapsed": true
   },
   "outputs": [],
   "source": [
    "from sklearn.metrics import classification_report"
   ]
  },
  {
   "cell_type": "code",
   "execution_count": 24,
   "metadata": {
    "collapsed": false
   },
   "outputs": [
    {
     "name": "stdout",
     "output_type": "stream",
     "text": [
      "             precision    recall  f1-score   support\n",
      "\n",
      "   building       0.47      0.41      0.44       150\n",
      "   cropland       0.48      0.54      0.51       150\n",
      "\n",
      "avg / total       0.47      0.47      0.47       300\n",
      "\n"
     ]
    }
   ],
   "source": [
    "target_names = ['building', 'cropland']\n",
    "print(classification_report(test_labels, predictions.argmax(axis=1), target_names=target_names))"
   ]
  },
  {
   "cell_type": "code",
   "execution_count": null,
   "metadata": {
    "collapsed": true
   },
   "outputs": [],
   "source": []
  }
 ],
 "metadata": {
  "kernelspec": {
   "display_name": "Python 3",
   "language": "python",
   "name": "python3"
  },
  "language_info": {
   "codemirror_mode": {
    "name": "ipython",
    "version": 3
   },
   "file_extension": ".py",
   "mimetype": "text/x-python",
   "name": "python",
   "nbconvert_exporter": "python",
   "pygments_lexer": "ipython3",
   "version": "3.6.0"
  }
 },
 "nbformat": 4,
 "nbformat_minor": 2
}
