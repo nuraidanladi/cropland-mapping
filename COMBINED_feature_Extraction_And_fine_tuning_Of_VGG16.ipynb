{
 "cells": [
  {
   "cell_type": "code",
   "execution_count": 1,
   "metadata": {
    "collapsed": false
   },
   "outputs": [
    {
     "name": "stderr",
     "output_type": "stream",
     "text": [
      "/home/nuru/.local/share/virtualenvs/deepLearn-tC2glvHT/lib/python3.6/site-packages/h5py/__init__.py:36: FutureWarning: Conversion of the second argument of issubdtype from `float` to `np.floating` is deprecated. In future, it will be treated as `np.float64 == np.dtype(float).type`.\n",
      "  from ._conv import register_converters as _register_converters\n",
      "Using TensorFlow backend.\n"
     ]
    }
   ],
   "source": [
    "from keras.applications import VGG16\n",
    "conv_base = VGG16(weights='imagenet',\n",
    "include_top=False,\n",
    "input_shape=(112, 112, 3))"
   ]
  },
  {
   "cell_type": "code",
   "execution_count": 2,
   "metadata": {
    "collapsed": false
   },
   "outputs": [
    {
     "name": "stdout",
     "output_type": "stream",
     "text": [
      "_________________________________________________________________\n",
      "Layer (type)                 Output Shape              Param #   \n",
      "=================================================================\n",
      "input_1 (InputLayer)         (None, 112, 112, 3)       0         \n",
      "_________________________________________________________________\n",
      "block1_conv1 (Conv2D)        (None, 112, 112, 64)      1792      \n",
      "_________________________________________________________________\n",
      "block1_conv2 (Conv2D)        (None, 112, 112, 64)      36928     \n",
      "_________________________________________________________________\n",
      "block1_pool (MaxPooling2D)   (None, 56, 56, 64)        0         \n",
      "_________________________________________________________________\n",
      "block2_conv1 (Conv2D)        (None, 56, 56, 128)       73856     \n",
      "_________________________________________________________________\n",
      "block2_conv2 (Conv2D)        (None, 56, 56, 128)       147584    \n",
      "_________________________________________________________________\n",
      "block2_pool (MaxPooling2D)   (None, 28, 28, 128)       0         \n",
      "_________________________________________________________________\n",
      "block3_conv1 (Conv2D)        (None, 28, 28, 256)       295168    \n",
      "_________________________________________________________________\n",
      "block3_conv2 (Conv2D)        (None, 28, 28, 256)       590080    \n",
      "_________________________________________________________________\n",
      "block3_conv3 (Conv2D)        (None, 28, 28, 256)       590080    \n",
      "_________________________________________________________________\n",
      "block3_pool (MaxPooling2D)   (None, 14, 14, 256)       0         \n",
      "_________________________________________________________________\n",
      "block4_conv1 (Conv2D)        (None, 14, 14, 512)       1180160   \n",
      "_________________________________________________________________\n",
      "block4_conv2 (Conv2D)        (None, 14, 14, 512)       2359808   \n",
      "_________________________________________________________________\n",
      "block4_conv3 (Conv2D)        (None, 14, 14, 512)       2359808   \n",
      "_________________________________________________________________\n",
      "block4_pool (MaxPooling2D)   (None, 7, 7, 512)         0         \n",
      "_________________________________________________________________\n",
      "block5_conv1 (Conv2D)        (None, 7, 7, 512)         2359808   \n",
      "_________________________________________________________________\n",
      "block5_conv2 (Conv2D)        (None, 7, 7, 512)         2359808   \n",
      "_________________________________________________________________\n",
      "block5_conv3 (Conv2D)        (None, 7, 7, 512)         2359808   \n",
      "_________________________________________________________________\n",
      "block5_pool (MaxPooling2D)   (None, 3, 3, 512)         0         \n",
      "=================================================================\n",
      "Total params: 14,714,688\n",
      "Trainable params: 14,714,688\n",
      "Non-trainable params: 0\n",
      "_________________________________________________________________\n"
     ]
    }
   ],
   "source": [
    "conv_base.summary()"
   ]
  },
  {
   "cell_type": "code",
   "execution_count": 3,
   "metadata": {
    "collapsed": true
   },
   "outputs": [],
   "source": [
    "import os\n",
    "import numpy as np\n",
    "from keras.preprocessing.image import ImageDataGenerator\n",
    "\n",
    "\n",
    "base_dir = 'data'\n",
    "train_dir = os.path.join(base_dir, 'train')\n",
    "validation_dir = os.path.join(base_dir, 'validation')\n",
    "test_dir = os.path.join(base_dir, 'test')\n",
    "\n",
    "datagen = ImageDataGenerator(rescale=1./255)\n",
    "batch_size = 50"
   ]
  },
  {
   "cell_type": "code",
   "execution_count": 4,
   "metadata": {
    "collapsed": false
   },
   "outputs": [
    {
     "name": "stdout",
     "output_type": "stream",
     "text": [
      "Found 900 images belonging to 3 classes.\n",
      "Found 450 images belonging to 3 classes.\n",
      "Found 450 images belonging to 3 classes.\n"
     ]
    }
   ],
   "source": [
    "def extract_features(directory, sample_count):\n",
    "    features = np.zeros(shape=(sample_count, 3, 3, 512))\n",
    "    labels = np.zeros(shape=(sample_count, 3))\n",
    "    generator = datagen.flow_from_directory(\n",
    "        directory,\n",
    "        target_size=(112, 112),\n",
    "        batch_size=batch_size,\n",
    "        class_mode='categorical')\n",
    "    i = 0\n",
    "    for inputs_batch, labels_batch in generator:\n",
    "        features_batch = conv_base.predict(inputs_batch)\n",
    "        features[i * batch_size : (i + 1) * batch_size] = features_batch\n",
    "        labels[i * batch_size : (i + 1) * batch_size] = labels_batch\n",
    "        i += 1\n",
    "        if i * batch_size >= sample_count:\n",
    "            break\n",
    "    return features, labels\n",
    "\n",
    "\n",
    "train_features, train_labels = extract_features('data/train', 900)\n",
    "validation_features, validation_labels = extract_features('data/validation', 450)\n",
    "test_features, test_labels = extract_features('data/test', 450)"
   ]
  },
  {
   "cell_type": "code",
   "execution_count": 5,
   "metadata": {
    "collapsed": true
   },
   "outputs": [],
   "source": [
    "train_features = np.reshape(train_features, (900, 3 * 3 * 512))\n",
    "validation_features = np.reshape(validation_features, (450, 3 * 3 * 512))\n",
    "test_features = np.reshape(test_features, (450, 3 * 3 * 512))"
   ]
  },
  {
   "cell_type": "code",
   "execution_count": 6,
   "metadata": {
    "collapsed": true
   },
   "outputs": [],
   "source": [
    "from keras import models\n",
    "from keras import layers\n",
    "from keras import optimizers"
   ]
  },
  {
   "cell_type": "code",
   "execution_count": 7,
   "metadata": {
    "collapsed": true
   },
   "outputs": [],
   "source": [
    "model = models.Sequential()\n",
    "model.add(layers.Dense(256, activation='relu', input_dim= 3 * 3 * 512))\n",
    "model.add(layers.Dropout(0.5))\n",
    "model.add(layers.Dense(3, activation='softmax'))"
   ]
  },
  {
   "cell_type": "code",
   "execution_count": 8,
   "metadata": {
    "collapsed": true
   },
   "outputs": [],
   "source": [
    "model.compile(optimizer=optimizers.RMSprop(lr=2e-5), loss='categorical_crossentropy', metrics=['acc'])"
   ]
  },
  {
   "cell_type": "code",
   "execution_count": 9,
   "metadata": {
    "collapsed": false
   },
   "outputs": [
    {
     "name": "stdout",
     "output_type": "stream",
     "text": [
      "Train on 900 samples, validate on 450 samples\n",
      "Epoch 1/50\n",
      "900/900 [==============================] - 3s 3ms/step - loss: 0.9134 - acc: 0.5622 - val_loss: 0.6896 - val_acc: 0.8289\n",
      "Epoch 2/50\n",
      "900/900 [==============================] - 2s 2ms/step - loss: 0.7066 - acc: 0.6856 - val_loss: 0.5797 - val_acc: 0.8333\n",
      "Epoch 3/50\n",
      "900/900 [==============================] - 2s 2ms/step - loss: 0.5898 - acc: 0.7522 - val_loss: 0.5099 - val_acc: 0.8356\n",
      "Epoch 4/50\n",
      "900/900 [==============================] - 2s 2ms/step - loss: 0.5145 - acc: 0.7733 - val_loss: 0.4750 - val_acc: 0.8311\n",
      "Epoch 5/50\n",
      "900/900 [==============================] - 2s 2ms/step - loss: 0.4495 - acc: 0.8178 - val_loss: 0.4493 - val_acc: 0.8178\n",
      "Epoch 6/50\n",
      "900/900 [==============================] - 2s 2ms/step - loss: 0.4070 - acc: 0.8322 - val_loss: 0.4419 - val_acc: 0.8067\n",
      "Epoch 7/50\n",
      "900/900 [==============================] - 2s 2ms/step - loss: 0.3809 - acc: 0.8311 - val_loss: 0.4156 - val_acc: 0.8267\n",
      "Epoch 8/50\n",
      "900/900 [==============================] - 2s 2ms/step - loss: 0.3451 - acc: 0.8489 - val_loss: 0.4234 - val_acc: 0.8000\n",
      "Epoch 9/50\n",
      "900/900 [==============================] - 2s 2ms/step - loss: 0.3526 - acc: 0.8489 - val_loss: 0.4230 - val_acc: 0.8000\n",
      "Epoch 10/50\n",
      "900/900 [==============================] - 2s 3ms/step - loss: 0.3133 - acc: 0.8633 - val_loss: 0.4162 - val_acc: 0.8044\n",
      "Epoch 11/50\n",
      "900/900 [==============================] - 2s 2ms/step - loss: 0.2949 - acc: 0.8889 - val_loss: 0.3961 - val_acc: 0.8244\n",
      "Epoch 12/50\n",
      "900/900 [==============================] - 2s 2ms/step - loss: 0.2992 - acc: 0.8689 - val_loss: 0.4005 - val_acc: 0.8089\n",
      "Epoch 13/50\n",
      "900/900 [==============================] - 2s 2ms/step - loss: 0.2845 - acc: 0.8789 - val_loss: 0.4154 - val_acc: 0.7933\n",
      "Epoch 14/50\n",
      "900/900 [==============================] - 2s 3ms/step - loss: 0.2715 - acc: 0.8900 - val_loss: 0.4189 - val_acc: 0.7844\n",
      "Epoch 15/50\n",
      "900/900 [==============================] - 3s 3ms/step - loss: 0.2564 - acc: 0.8900 - val_loss: 0.4153 - val_acc: 0.7889\n",
      "Epoch 16/50\n",
      "900/900 [==============================] - 2s 2ms/step - loss: 0.2641 - acc: 0.8789 - val_loss: 0.4025 - val_acc: 0.8089\n",
      "Epoch 17/50\n",
      "900/900 [==============================] - 2s 2ms/step - loss: 0.2478 - acc: 0.8944 - val_loss: 0.4188 - val_acc: 0.7844\n",
      "Epoch 18/50\n",
      "900/900 [==============================] - 2s 2ms/step - loss: 0.2368 - acc: 0.9011 - val_loss: 0.4326 - val_acc: 0.7733\n",
      "Epoch 19/50\n",
      "900/900 [==============================] - 2s 2ms/step - loss: 0.2300 - acc: 0.9000 - val_loss: 0.4093 - val_acc: 0.7956\n",
      "Epoch 20/50\n",
      "900/900 [==============================] - 2s 2ms/step - loss: 0.2255 - acc: 0.8978 - val_loss: 0.4050 - val_acc: 0.8044\n",
      "Epoch 21/50\n",
      "900/900 [==============================] - 2s 3ms/step - loss: 0.2274 - acc: 0.8967 - val_loss: 0.4061 - val_acc: 0.8044\n",
      "Epoch 22/50\n",
      "900/900 [==============================] - 2s 2ms/step - loss: 0.2163 - acc: 0.9000 - val_loss: 0.4234 - val_acc: 0.7800\n",
      "Epoch 23/50\n",
      "900/900 [==============================] - 3s 3ms/step - loss: 0.2017 - acc: 0.9156 - val_loss: 0.4215 - val_acc: 0.7844\n",
      "Epoch 24/50\n",
      "900/900 [==============================] - 2s 2ms/step - loss: 0.2043 - acc: 0.9122 - val_loss: 0.4199 - val_acc: 0.7956\n",
      "Epoch 25/50\n",
      "900/900 [==============================] - 2s 2ms/step - loss: 0.1965 - acc: 0.9122 - val_loss: 0.4066 - val_acc: 0.8089\n",
      "Epoch 26/50\n",
      "900/900 [==============================] - 2s 2ms/step - loss: 0.1949 - acc: 0.9111 - val_loss: 0.4246 - val_acc: 0.7889\n",
      "Epoch 27/50\n",
      "900/900 [==============================] - 2s 2ms/step - loss: 0.1931 - acc: 0.9211 - val_loss: 0.4181 - val_acc: 0.7956\n",
      "Epoch 28/50\n",
      "900/900 [==============================] - 2s 2ms/step - loss: 0.1925 - acc: 0.9178 - val_loss: 0.4174 - val_acc: 0.7956\n",
      "Epoch 29/50\n",
      "900/900 [==============================] - 2s 2ms/step - loss: 0.1840 - acc: 0.9256 - val_loss: 0.4221 - val_acc: 0.7911\n",
      "Epoch 30/50\n",
      "900/900 [==============================] - 2s 2ms/step - loss: 0.1739 - acc: 0.9367 - val_loss: 0.4208 - val_acc: 0.7956\n",
      "Epoch 31/50\n",
      "900/900 [==============================] - 2s 2ms/step - loss: 0.1887 - acc: 0.9278 - val_loss: 0.4346 - val_acc: 0.7822\n",
      "Epoch 32/50\n",
      "900/900 [==============================] - 2s 2ms/step - loss: 0.1756 - acc: 0.9289 - val_loss: 0.4333 - val_acc: 0.7822\n",
      "Epoch 33/50\n",
      "900/900 [==============================] - 2s 2ms/step - loss: 0.1747 - acc: 0.9356 - val_loss: 0.4159 - val_acc: 0.7889\n",
      "Epoch 34/50\n",
      "900/900 [==============================] - 2s 2ms/step - loss: 0.1643 - acc: 0.9378 - val_loss: 0.4160 - val_acc: 0.7933\n",
      "Epoch 35/50\n",
      "900/900 [==============================] - 2s 2ms/step - loss: 0.1707 - acc: 0.9422 - val_loss: 0.4220 - val_acc: 0.7889\n",
      "Epoch 36/50\n",
      "900/900 [==============================] - 2s 3ms/step - loss: 0.1612 - acc: 0.9433 - val_loss: 0.4213 - val_acc: 0.7933\n",
      "Epoch 37/50\n",
      "900/900 [==============================] - 2s 3ms/step - loss: 0.1577 - acc: 0.9400 - val_loss: 0.4491 - val_acc: 0.7667\n",
      "Epoch 38/50\n",
      "900/900 [==============================] - 2s 2ms/step - loss: 0.1567 - acc: 0.9411 - val_loss: 0.4238 - val_acc: 0.7889\n",
      "Epoch 39/50\n",
      "900/900 [==============================] - 3s 3ms/step - loss: 0.1539 - acc: 0.9389 - val_loss: 0.4225 - val_acc: 0.7867\n",
      "Epoch 40/50\n",
      "900/900 [==============================] - 3s 3ms/step - loss: 0.1542 - acc: 0.9489 - val_loss: 0.4212 - val_acc: 0.7911\n",
      "Epoch 41/50\n",
      "900/900 [==============================] - 3s 3ms/step - loss: 0.1566 - acc: 0.9489 - val_loss: 0.4494 - val_acc: 0.7822\n",
      "Epoch 42/50\n",
      "900/900 [==============================] - 2s 3ms/step - loss: 0.1488 - acc: 0.9489 - val_loss: 0.4449 - val_acc: 0.7822\n",
      "Epoch 43/50\n",
      "900/900 [==============================] - 3s 3ms/step - loss: 0.1428 - acc: 0.9522 - val_loss: 0.4524 - val_acc: 0.7756\n",
      "Epoch 44/50\n",
      "900/900 [==============================] - 3s 3ms/step - loss: 0.1377 - acc: 0.9567 - val_loss: 0.4621 - val_acc: 0.7644\n",
      "Epoch 45/50\n",
      "900/900 [==============================] - 2s 3ms/step - loss: 0.1372 - acc: 0.9522 - val_loss: 0.4681 - val_acc: 0.7578\n",
      "Epoch 46/50\n",
      "900/900 [==============================] - 2s 3ms/step - loss: 0.1408 - acc: 0.9478 - val_loss: 0.4642 - val_acc: 0.7644\n",
      "Epoch 47/50\n",
      "900/900 [==============================] - 2s 3ms/step - loss: 0.1325 - acc: 0.9522 - val_loss: 0.4403 - val_acc: 0.7822\n",
      "Epoch 48/50\n",
      "900/900 [==============================] - 2s 3ms/step - loss: 0.1312 - acc: 0.9533 - val_loss: 0.4804 - val_acc: 0.7600\n",
      "Epoch 49/50\n",
      "900/900 [==============================] - 2s 3ms/step - loss: 0.1263 - acc: 0.9544 - val_loss: 0.4582 - val_acc: 0.7778\n",
      "Epoch 50/50\n",
      "900/900 [==============================] - 3s 3ms/step - loss: 0.1292 - acc: 0.9544 - val_loss: 0.4507 - val_acc: 0.7778\n"
     ]
    }
   ],
   "source": [
    "history = model.fit(train_features, train_labels,\n",
    "        epochs=50,\n",
    "        batch_size=50,\n",
    "        validation_data=(validation_features, validation_labels))"
   ]
  },
  {
   "cell_type": "code",
   "execution_count": 10,
   "metadata": {
    "collapsed": false
   },
   "outputs": [
    {
     "data": {
      "image/png": "[encoded data removed]",
      "text/plain": [
       "<Figure size 432x288 with 1 Axes>"
      ]
     },
     "metadata": {},
     "output_type": "display_data"
    },
    {
     "data": {
      "image/png": "[encoded data removed]",
      "text/plain": [
       "<Figure size 432x288 with 1 Axes>"
      ]
     },
     "metadata": {},
     "output_type": "display_data"
    }
   ],
   "source": [
    "import matplotlib.pyplot as plt\n",
    "%matplotlib inline\n",
    "\n",
    "acc = history.history['acc']\n",
    "val_acc = history.history['val_acc']\n",
    "loss = history.history['loss']\n",
    "val_loss = history.history['val_loss']\n",
    "\n",
    "epochs = range(1, len(acc) + 1)\n",
    "\n",
    "plt.plot(epochs, acc, 'bo', label='Training acc')\n",
    "plt.plot(epochs, val_acc, 'b', label='Validation acc')\n",
    "plt.title('Training and validation accuracy')\n",
    "plt.legend()\n",
    "\n",
    "plt.figure()\n",
    "\n",
    "plt.plot(epochs, loss, 'bo', label='Training loss')\n",
    "plt.plot(epochs, val_loss, 'b', label='Validation loss')\n",
    "plt.title('Training and validation loss')\n",
    "plt.legend()\n",
    "\n",
    "plt.show()"
   ]
  },
  {
   "cell_type": "code",
   "execution_count": 11,
   "metadata": {
    "collapsed": false
   },
   "outputs": [
    {
     "name": "stdout",
     "output_type": "stream",
     "text": [
      "_________________________________________________________________\n",
      "Layer (type)                 Output Shape              Param #   \n",
      "=================================================================\n",
      "input_1 (InputLayer)         (None, 112, 112, 3)       0         \n",
      "_________________________________________________________________\n",
      "block1_conv1 (Conv2D)        (None, 112, 112, 64)      1792      \n",
      "_________________________________________________________________\n",
      "block1_conv2 (Conv2D)        (None, 112, 112, 64)      36928     \n",
      "_________________________________________________________________\n",
      "block1_pool (MaxPooling2D)   (None, 56, 56, 64)        0         \n",
      "_________________________________________________________________\n",
      "block2_conv1 (Conv2D)        (None, 56, 56, 128)       73856     \n",
      "_________________________________________________________________\n",
      "block2_conv2 (Conv2D)        (None, 56, 56, 128)       147584    \n",
      "_________________________________________________________________\n",
      "block2_pool (MaxPooling2D)   (None, 28, 28, 128)       0         \n",
      "_________________________________________________________________\n",
      "block3_conv1 (Conv2D)        (None, 28, 28, 256)       295168    \n",
      "_________________________________________________________________\n",
      "block3_conv2 (Conv2D)        (None, 28, 28, 256)       590080    \n",
      "_________________________________________________________________\n",
      "block3_conv3 (Conv2D)        (None, 28, 28, 256)       590080    \n",
      "_________________________________________________________________\n",
      "block3_pool (MaxPooling2D)   (None, 14, 14, 256)       0         \n",
      "_________________________________________________________________\n",
      "block4_conv1 (Conv2D)        (None, 14, 14, 512)       1180160   \n",
      "_________________________________________________________________\n",
      "block4_conv2 (Conv2D)        (None, 14, 14, 512)       2359808   \n",
      "_________________________________________________________________\n",
      "block4_conv3 (Conv2D)        (None, 14, 14, 512)       2359808   \n",
      "_________________________________________________________________\n",
      "block4_pool (MaxPooling2D)   (None, 7, 7, 512)         0         \n",
      "_________________________________________________________________\n",
      "block5_conv1 (Conv2D)        (None, 7, 7, 512)         2359808   \n",
      "_________________________________________________________________\n",
      "block5_conv2 (Conv2D)        (None, 7, 7, 512)         2359808   \n",
      "_________________________________________________________________\n",
      "block5_conv3 (Conv2D)        (None, 7, 7, 512)         2359808   \n",
      "_________________________________________________________________\n",
      "block5_pool (MaxPooling2D)   (None, 3, 3, 512)         0         \n",
      "=================================================================\n",
      "Total params: 14,714,688\n",
      "Trainable params: 14,714,688\n",
      "Non-trainable params: 0\n",
      "_________________________________________________________________\n"
     ]
    }
   ],
   "source": [
    "conv_base.summary()"
   ]
  },
  {
   "cell_type": "code",
   "execution_count": 12,
   "metadata": {
    "collapsed": true
   },
   "outputs": [],
   "source": [
    "conv_base.trainable = True\n",
    "\n",
    "set_trainable = False\n",
    "for layer in conv_base.layers:\n",
    "    if layer.name == 'block5_conv1':\n",
    "        set_trainable = True\n",
    "    if set_trainable:\n",
    "        layer.trainable = True\n",
    "    else:\n",
    "        layer.trainable = False"
   ]
  },
  {
   "cell_type": "code",
   "execution_count": 13,
   "metadata": {
    "collapsed": true
   },
   "outputs": [],
   "source": [
    "model.compile(loss='binary_crossentropy',\n",
    "        optimizer=optimizers.RMSprop(lr=1e-5),\n",
    "        metrics=['acc'])"
   ]
  },
  {
   "cell_type": "code",
   "execution_count": 15,
   "metadata": {
    "collapsed": false
   },
   "outputs": [
    {
     "name": "stdout",
     "output_type": "stream",
     "text": [
      "Train on 900 samples, validate on 450 samples\n",
      "Epoch 1/70\n",
      "900/900 [==============================] - 2s 3ms/step - loss: 0.0835 - acc: 0.9756 - val_loss: 0.3061 - val_acc: 0.8467\n",
      "Epoch 2/70\n",
      "900/900 [==============================] - 2s 2ms/step - loss: 0.0843 - acc: 0.9678 - val_loss: 0.3051 - val_acc: 0.8481\n",
      "Epoch 3/70\n",
      "900/900 [==============================] - 2s 2ms/step - loss: 0.0841 - acc: 0.9711 - val_loss: 0.3054 - val_acc: 0.8481\n",
      "Epoch 4/70\n",
      "900/900 [==============================] - 2s 2ms/step - loss: 0.0776 - acc: 0.9707 - val_loss: 0.3017 - val_acc: 0.8504\n",
      "Epoch 5/70\n",
      "900/900 [==============================] - 2s 3ms/step - loss: 0.0802 - acc: 0.9756 - val_loss: 0.2994 - val_acc: 0.8511\n",
      "Epoch 6/70\n",
      "900/900 [==============================] - 2s 3ms/step - loss: 0.0799 - acc: 0.9767 - val_loss: 0.3017 - val_acc: 0.8496\n",
      "Epoch 7/70\n",
      "900/900 [==============================] - 2s 2ms/step - loss: 0.0796 - acc: 0.9759 - val_loss: 0.2929 - val_acc: 0.8519\n",
      "Epoch 8/70\n",
      "900/900 [==============================] - 2s 2ms/step - loss: 0.0779 - acc: 0.9737 - val_loss: 0.3087 - val_acc: 0.8489\n",
      "Epoch 9/70\n",
      "900/900 [==============================] - 2s 2ms/step - loss: 0.0736 - acc: 0.9785 - val_loss: 0.3040 - val_acc: 0.8474\n",
      "Epoch 10/70\n",
      "900/900 [==============================] - 2s 2ms/step - loss: 0.0815 - acc: 0.9715 - val_loss: 0.2966 - val_acc: 0.8511\n",
      "Epoch 11/70\n",
      "900/900 [==============================] - 2s 2ms/step - loss: 0.0783 - acc: 0.9719 - val_loss: 0.3066 - val_acc: 0.8467\n",
      "Epoch 12/70\n",
      "900/900 [==============================] - 2s 3ms/step - loss: 0.0795 - acc: 0.9778 - val_loss: 0.3052 - val_acc: 0.8489\n",
      "Epoch 13/70\n",
      "900/900 [==============================] - 2s 2ms/step - loss: 0.0799 - acc: 0.9737 - val_loss: 0.3067 - val_acc: 0.8489\n",
      "Epoch 14/70\n",
      "900/900 [==============================] - 2s 2ms/step - loss: 0.0756 - acc: 0.9767 - val_loss: 0.2972 - val_acc: 0.8511\n",
      "Epoch 15/70\n",
      "900/900 [==============================] - 2s 2ms/step - loss: 0.0737 - acc: 0.9763 - val_loss: 0.3046 - val_acc: 0.8511\n",
      "Epoch 16/70\n",
      "900/900 [==============================] - 2s 2ms/step - loss: 0.0753 - acc: 0.9767 - val_loss: 0.3060 - val_acc: 0.8504\n",
      "Epoch 17/70\n",
      "900/900 [==============================] - 2s 2ms/step - loss: 0.0725 - acc: 0.9807 - val_loss: 0.2953 - val_acc: 0.8511\n",
      "Epoch 18/70\n",
      "900/900 [==============================] - 2s 2ms/step - loss: 0.0748 - acc: 0.9793 - val_loss: 0.3032 - val_acc: 0.8504\n",
      "Epoch 19/70\n",
      "900/900 [==============================] - 2s 3ms/step - loss: 0.0682 - acc: 0.9800 - val_loss: 0.2975 - val_acc: 0.8519\n",
      "Epoch 20/70\n",
      "900/900 [==============================] - 2s 2ms/step - loss: 0.0731 - acc: 0.9763 - val_loss: 0.3093 - val_acc: 0.8519\n",
      "Epoch 21/70\n",
      "900/900 [==============================] - 2s 2ms/step - loss: 0.0729 - acc: 0.9763 - val_loss: 0.3028 - val_acc: 0.8511\n",
      "Epoch 22/70\n",
      "900/900 [==============================] - 2s 2ms/step - loss: 0.0725 - acc: 0.9748 - val_loss: 0.3184 - val_acc: 0.8459\n",
      "Epoch 23/70\n",
      "900/900 [==============================] - 2s 2ms/step - loss: 0.0731 - acc: 0.9748 - val_loss: 0.3063 - val_acc: 0.8504\n",
      "Epoch 24/70\n",
      "900/900 [==============================] - 2s 2ms/step - loss: 0.0713 - acc: 0.9763 - val_loss: 0.3026 - val_acc: 0.8481\n",
      "Epoch 25/70\n",
      "900/900 [==============================] - 2s 2ms/step - loss: 0.0718 - acc: 0.9796 - val_loss: 0.3099 - val_acc: 0.8519\n",
      "Epoch 26/70\n",
      "900/900 [==============================] - 2s 2ms/step - loss: 0.0709 - acc: 0.9774 - val_loss: 0.3060 - val_acc: 0.8496\n",
      "Epoch 27/70\n",
      "900/900 [==============================] - 2s 2ms/step - loss: 0.0674 - acc: 0.9807 - val_loss: 0.3042 - val_acc: 0.8474\n",
      "Epoch 28/70\n",
      "900/900 [==============================] - 2s 2ms/step - loss: 0.0695 - acc: 0.9822 - val_loss: 0.3088 - val_acc: 0.8511\n",
      "Epoch 29/70\n",
      "900/900 [==============================] - 2s 2ms/step - loss: 0.0676 - acc: 0.9785 - val_loss: 0.3100 - val_acc: 0.8496\n",
      "Epoch 30/70\n",
      "900/900 [==============================] - 2s 2ms/step - loss: 0.0663 - acc: 0.9811 - val_loss: 0.3051 - val_acc: 0.8489\n",
      "Epoch 31/70\n",
      "900/900 [==============================] - 2s 2ms/step - loss: 0.0705 - acc: 0.9785 - val_loss: 0.3027 - val_acc: 0.8481\n",
      "Epoch 32/70\n",
      "900/900 [==============================] - 2s 2ms/step - loss: 0.0627 - acc: 0.9793 - val_loss: 0.3101 - val_acc: 0.8511\n",
      "Epoch 33/70\n",
      "900/900 [==============================] - 2s 2ms/step - loss: 0.0649 - acc: 0.9819 - val_loss: 0.3113 - val_acc: 0.8533\n",
      "Epoch 34/70\n",
      "900/900 [==============================] - 2s 2ms/step - loss: 0.0709 - acc: 0.9759 - val_loss: 0.3091 - val_acc: 0.8526\n",
      "Epoch 35/70\n",
      "900/900 [==============================] - 2s 2ms/step - loss: 0.0673 - acc: 0.9785 - val_loss: 0.3004 - val_acc: 0.8496\n",
      "Epoch 36/70\n",
      "900/900 [==============================] - 2s 2ms/step - loss: 0.0651 - acc: 0.9800 - val_loss: 0.3082 - val_acc: 0.8526\n",
      "Epoch 37/70\n",
      "900/900 [==============================] - 2s 3ms/step - loss: 0.0627 - acc: 0.9807 - val_loss: 0.3143 - val_acc: 0.8496\n",
      "Epoch 38/70\n",
      "900/900 [==============================] - 2s 2ms/step - loss: 0.0638 - acc: 0.9852 - val_loss: 0.3060 - val_acc: 0.8481\n",
      "Epoch 39/70\n",
      "900/900 [==============================] - 3s 3ms/step - loss: 0.0638 - acc: 0.9800 - val_loss: 0.3051 - val_acc: 0.8459\n",
      "Epoch 40/70\n",
      "900/900 [==============================] - 3s 3ms/step - loss: 0.0639 - acc: 0.9822 - val_loss: 0.3124 - val_acc: 0.8489\n",
      "Epoch 41/70\n",
      "900/900 [==============================] - 3s 3ms/step - loss: 0.0655 - acc: 0.9807 - val_loss: 0.3122 - val_acc: 0.8489\n",
      "Epoch 42/70\n",
      "900/900 [==============================] - 2s 3ms/step - loss: 0.0631 - acc: 0.9852 - val_loss: 0.3104 - val_acc: 0.8481\n",
      "Epoch 43/70\n",
      "900/900 [==============================] - 2s 2ms/step - loss: 0.0627 - acc: 0.9852 - val_loss: 0.3105 - val_acc: 0.8467\n",
      "Epoch 44/70\n",
      "900/900 [==============================] - 2s 2ms/step - loss: 0.0642 - acc: 0.9796 - val_loss: 0.3090 - val_acc: 0.8474\n",
      "Epoch 45/70\n",
      "900/900 [==============================] - 2s 2ms/step - loss: 0.0617 - acc: 0.9830 - val_loss: 0.3223 - val_acc: 0.8489\n",
      "Epoch 46/70\n",
      "900/900 [==============================] - 2s 2ms/step - loss: 0.0613 - acc: 0.9837 - val_loss: 0.3106 - val_acc: 0.8496\n",
      "Epoch 47/70\n",
      "900/900 [==============================] - 2s 2ms/step - loss: 0.0603 - acc: 0.9859 - val_loss: 0.3079 - val_acc: 0.8489\n",
      "Epoch 48/70\n",
      "900/900 [==============================] - 2s 2ms/step - loss: 0.0586 - acc: 0.9852 - val_loss: 0.3056 - val_acc: 0.8467\n",
      "Epoch 49/70\n",
      "900/900 [==============================] - 2s 2ms/step - loss: 0.0590 - acc: 0.9822 - val_loss: 0.3039 - val_acc: 0.8481\n",
      "Epoch 50/70\n",
      "900/900 [==============================] - 2s 2ms/step - loss: 0.0579 - acc: 0.9800 - val_loss: 0.3073 - val_acc: 0.8467\n",
      "Epoch 51/70\n",
      "900/900 [==============================] - 2s 2ms/step - loss: 0.0599 - acc: 0.9830 - val_loss: 0.3098 - val_acc: 0.8459\n",
      "Epoch 52/70\n",
      "900/900 [==============================] - 2s 2ms/step - loss: 0.0573 - acc: 0.9815 - val_loss: 0.3124 - val_acc: 0.8496\n",
      "Epoch 53/70\n",
      "900/900 [==============================] - 2s 2ms/step - loss: 0.0544 - acc: 0.9881 - val_loss: 0.3092 - val_acc: 0.8467\n",
      "Epoch 54/70\n",
      "900/900 [==============================] - 2s 2ms/step - loss: 0.0560 - acc: 0.9863 - val_loss: 0.3159 - val_acc: 0.8504\n",
      "Epoch 55/70\n",
      "900/900 [==============================] - 2s 2ms/step - loss: 0.0541 - acc: 0.9844 - val_loss: 0.3141 - val_acc: 0.8467\n",
      "Epoch 56/70\n",
      "900/900 [==============================] - 2s 2ms/step - loss: 0.0560 - acc: 0.9867 - val_loss: 0.3171 - val_acc: 0.8526\n",
      "Epoch 57/70\n",
      "900/900 [==============================] - 2s 2ms/step - loss: 0.0554 - acc: 0.9844 - val_loss: 0.3114 - val_acc: 0.8467\n",
      "Epoch 58/70\n",
      "900/900 [==============================] - 2s 2ms/step - loss: 0.0522 - acc: 0.9881 - val_loss: 0.3107 - val_acc: 0.8474\n",
      "Epoch 59/70\n",
      "900/900 [==============================] - 3s 3ms/step - loss: 0.0545 - acc: 0.9870 - val_loss: 0.3202 - val_acc: 0.8519\n",
      "Epoch 60/70\n",
      "900/900 [==============================] - 2s 2ms/step - loss: 0.0525 - acc: 0.9848 - val_loss: 0.3171 - val_acc: 0.8519\n",
      "Epoch 61/70\n",
      "900/900 [==============================] - 2s 2ms/step - loss: 0.0546 - acc: 0.9844 - val_loss: 0.3224 - val_acc: 0.8496\n",
      "Epoch 62/70\n",
      "900/900 [==============================] - 2s 2ms/step - loss: 0.0573 - acc: 0.9822 - val_loss: 0.3126 - val_acc: 0.8481\n",
      "Epoch 63/70\n",
      "900/900 [==============================] - 2s 2ms/step - loss: 0.0548 - acc: 0.9852 - val_loss: 0.3112 - val_acc: 0.8481\n",
      "Epoch 64/70\n",
      "900/900 [==============================] - 2s 2ms/step - loss: 0.0507 - acc: 0.9874 - val_loss: 0.3080 - val_acc: 0.8459\n",
      "Epoch 65/70\n",
      "900/900 [==============================] - 2s 2ms/step - loss: 0.0554 - acc: 0.9863 - val_loss: 0.3142 - val_acc: 0.8489\n",
      "Epoch 66/70\n",
      "900/900 [==============================] - 2s 2ms/step - loss: 0.0504 - acc: 0.9878 - val_loss: 0.3221 - val_acc: 0.8496\n",
      "Epoch 67/70\n",
      "900/900 [==============================] - 2s 2ms/step - loss: 0.0508 - acc: 0.9859 - val_loss: 0.3208 - val_acc: 0.8489\n",
      "Epoch 68/70\n",
      "900/900 [==============================] - 2s 2ms/step - loss: 0.0568 - acc: 0.9815 - val_loss: 0.3187 - val_acc: 0.8481\n",
      "Epoch 69/70\n",
      "900/900 [==============================] - 2s 2ms/step - loss: 0.0510 - acc: 0.9881 - val_loss: 0.3198 - val_acc: 0.8452\n",
      "Epoch 70/70\n",
      "900/900 [==============================] - 2s 2ms/step - loss: 0.0487 - acc: 0.9904 - val_loss: 0.3266 - val_acc: 0.8489\n"
     ]
    }
   ],
   "source": [
    "history = model.fit(train_features, train_labels,\n",
    "        epochs=70,\n",
    "        batch_size=50,\n",
    "        validation_data=(validation_features, validation_labels))"
   ]
  },
  {
   "cell_type": "code",
   "execution_count": 16,
   "metadata": {
    "collapsed": false
   },
   "outputs": [
    {
     "data": {
      "image/png": "[encoded data removed]",
      "text/plain": [
       "<Figure size 432x288 with 1 Axes>"
      ]
     },
     "metadata": {},
     "output_type": "display_data"
    },
    {
     "data": {
      "image/png": "[encoded data removed]",
      "text/plain": [
       "<Figure size 432x288 with 1 Axes>"
      ]
     },
     "metadata": {},
     "output_type": "display_data"
    }
   ],
   "source": [
    "acc = history.history['acc']\n",
    "val_acc = history.history['val_acc']\n",
    "loss = history.history['loss']\n",
    "val_loss = history.history['val_loss']\n",
    "\n",
    "epochs = range(1, len(acc) + 1)\n",
    "\n",
    "plt.plot(epochs, acc, 'bo', label='Training acc')\n",
    "plt.plot(epochs, val_acc, 'b', label='Validation acc')\n",
    "plt.title('Training and validation accuracy')\n",
    "plt.legend()\n",
    "\n",
    "plt.figure()\n",
    "\n",
    "plt.plot(epochs, loss, 'bo', label='Training loss')\n",
    "plt.plot(epochs, val_loss, 'b', label='Validation loss')\n",
    "plt.title('Training and validation loss')\n",
    "plt.legend()\n",
    "\n",
    "plt.show()"
   ]
  },
  {
   "cell_type": "code",
   "execution_count": 18,
   "metadata": {
    "collapsed": true
   },
   "outputs": [],
   "source": [
    "model.save('yes3.h5')"
   ]
  },
  {
   "cell_type": "code",
   "execution_count": 22,
   "metadata": {
    "collapsed": false
   },
   "outputs": [
    {
     "ename": "AttributeError",
     "evalue": "'str' object has no attribute 'flow_from_directory'",
     "output_type": "error",
     "traceback": [
      "\u001b[0;31m---------------------------------------------------------------------------\u001b[0m",
      "\u001b[0;31mAttributeError\u001b[0m                            Traceback (most recent call last)",
      "\u001b[0;32m<ipython-input-22-2581c8edb158>\u001b[0m in \u001b[0;36m<module>\u001b[0;34m()\u001b[0m\n\u001b[0;32m----> 1\u001b[0;31m test_generator = test_dir.flow_from_directory( 'data/test', target_size=(112, 112),\n\u001b[0m\u001b[1;32m      2\u001b[0m     \u001b[0mbatch_size\u001b[0m\u001b[0;34m=\u001b[0m\u001b[0;36m20\u001b[0m\u001b[0;34m,\u001b[0m\u001b[0;34m\u001b[0m\u001b[0m\n\u001b[1;32m      3\u001b[0m     class_mode='categorical')\n\u001b[1;32m      4\u001b[0m \u001b[0mtest_loss\u001b[0m\u001b[0;34m,\u001b[0m \u001b[0mtest_acc\u001b[0m \u001b[0;34m=\u001b[0m \u001b[0mmodel\u001b[0m\u001b[0;34m.\u001b[0m\u001b[0mevaluate_generator\u001b[0m\u001b[0;34m(\u001b[0m\u001b[0mtest_generator\u001b[0m\u001b[0;34m,\u001b[0m \u001b[0msteps\u001b[0m\u001b[0;34m=\u001b[0m\u001b[0;36m50\u001b[0m\u001b[0;34m)\u001b[0m\u001b[0;34m\u001b[0m\u001b[0m\n\u001b[1;32m      5\u001b[0m \u001b[0mprint\u001b[0m\u001b[0;34m(\u001b[0m\u001b[0;34m'test acc:'\u001b[0m\u001b[0;34m,\u001b[0m \u001b[0mtest_acc\u001b[0m\u001b[0;34m)\u001b[0m\u001b[0;34m\u001b[0m\u001b[0m\n",
      "\u001b[0;31mAttributeError\u001b[0m: 'str' object has no attribute 'flow_from_directory'"
     ]
    }
   ],
   "source": [
    "test_generator = test_dir.flow_from_directory( 'data/test', target_size=(112, 112),\n",
    "    batch_size=20,\n",
    "    class_mode='categorical')\n",
    "test_loss, test_acc = model.evaluate_generator(test_generator, steps=50)\n",
    "print('test acc:', test_acc)"
   ]
  },
  {
   "cell_type": "code",
   "execution_count": null,
   "metadata": {
    "collapsed": true
   },
   "outputs": [],
   "source": []
  }
 ],
 "metadata": {
  "kernelspec": {
   "display_name": "Python 3",
   "language": "python",
   "name": "python3"
  },
  "language_info": {
   "codemirror_mode": {
    "name": "ipython",
    "version": 3
   },
   "file_extension": ".py",
   "mimetype": "text/x-python",
   "name": "python",
   "nbconvert_exporter": "python",
   "pygments_lexer": "ipython3",
   "version": "3.6.0"
  }
 },
 "nbformat": 4,
 "nbformat_minor": 2
}
