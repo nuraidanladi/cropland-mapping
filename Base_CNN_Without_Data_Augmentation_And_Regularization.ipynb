{
 "cells": [
  {
   "cell_type": "code",
   "execution_count": 1,
   "metadata": {
    "collapsed": false
   },
   "outputs": [
    {
     "name": "stderr",
     "output_type": "stream",
     "text": [
      "/home/nuru/.local/share/virtualenvs/deepLearn-tC2glvHT/lib/python3.6/site-packages/h5py/__init__.py:36: FutureWarning: Conversion of the second argument of issubdtype from `float` to `np.floating` is deprecated. In future, it will be treated as `np.float64 == np.dtype(float).type`.\n",
      "  from ._conv import register_converters as _register_converters\n",
      "Using TensorFlow backend.\n"
     ]
    }
   ],
   "source": [
    "import numpy as np\n",
    "from keras import backend as K\n",
    "from keras.models import Sequential\n",
    "from keras.layers.core import Dense, Dropout, Activation, Flatten\n",
    "from keras.layers.convolutional import Convolution2D, MaxPooling2D\n",
    "from keras.preprocessing.image import ImageDataGenerator\n",
    "from keras.metrics import categorical_crossentropy\n",
    "from keras.layers.normalization import BatchNormalization\n",
    "from sklearn.metrics import classification_report, confusion_matrix\n",
    "import itertools\n",
    "import matplotlib.pyplot as plt\n",
    "%matplotlib inline"
   ]
  },
  {
   "cell_type": "code",
   "execution_count": 2,
   "metadata": {
    "collapsed": true
   },
   "outputs": [],
   "source": [
    "#Start\n",
    "train_data_dir = 'data/train'\n",
    "validation_data_dir = 'data/validation'\n",
    "test_data_dir = 'data/test'\n",
    "img_rows = 64\n",
    "img_cols = 64\n",
    "epochs = 70\n",
    "batch_size = 50\n",
    "num_of_train_samples = 900\n",
    "num_of_test_samples = 450\n",
    "num_of_validation_samples = 450"
   ]
  },
  {
   "cell_type": "code",
   "execution_count": 3,
   "metadata": {
    "collapsed": true
   },
   "outputs": [],
   "source": [
    "train_datagen = ImageDataGenerator(rescale=1./255)\n",
    "validation_datagen = ImageDataGenerator(rescale=1./255)\n",
    "test_datagen = ImageDataGenerator(rescale=1./255)"
   ]
  },
  {
   "cell_type": "code",
   "execution_count": 4,
   "metadata": {
    "collapsed": true
   },
   "outputs": [],
   "source": [
    "#Image Generator\n",
    "train_datagen = ImageDataGenerator(rescale=1. / 255,\n",
    "rotation_range=40,\n",
    "width_shift_range=0.2,\n",
    "height_shift_range=0.2,\n",
    "shear_range=0.2,\n",
    "zoom_range=0.2,\n",
    "horizontal_flip=True,\n",
    "fill_mode='nearest')"
   ]
  },
  {
   "cell_type": "code",
   "execution_count": 5,
   "metadata": {
    "collapsed": false
   },
   "outputs": [
    {
     "name": "stdout",
     "output_type": "stream",
     "text": [
      "Found 900 images belonging to 3 classes.\n",
      "Found 450 images belonging to 3 classes.\n",
      "Found 450 images belonging to 3 classes.\n"
     ]
    }
   ],
   "source": [
    "train_generator = train_datagen.flow_from_directory(train_data_dir, target_size=(img_rows, img_cols), batch_size=batch_size, class_mode='categorical')\n",
    "validation_generator = validation_datagen.flow_from_directory(validation_data_dir, target_size=(img_rows, img_cols), batch_size=batch_size, shuffle=False)\n",
    "#class_mode='categorical')\n",
    "test_generator = test_datagen.flow_from_directory(test_data_dir, target_size=(img_rows, img_cols), batch_size=batch_size, shuffle=False)\n",
    "#class_mode='categorical')"
   ]
  },
  {
   "cell_type": "code",
   "execution_count": 6,
   "metadata": {
    "collapsed": true
   },
   "outputs": [],
   "source": [
    "# Build model\n",
    "model = Sequential()\n",
    "model.add(Convolution2D(32, (3, 3), input_shape=(img_rows, img_cols, 3), padding='valid'))\n",
    "model.add(Activation('relu'))\n",
    "model.add(MaxPooling2D(pool_size=(2, 2)))\n",
    "\n",
    "model.add(Convolution2D(32, (3, 3), padding='valid'))\n",
    "model.add(Activation('relu'))\n",
    "model.add(MaxPooling2D(pool_size=(2, 2)))\n",
    "\n",
    "model.add(Convolution2D(64, (3, 3), padding='valid'))\n",
    "model.add(Activation('relu'))\n",
    "model.add(MaxPooling2D(pool_size=(2, 2)))\n",
    "model.add(Dropout(0.5))\n",
    "\n",
    "model.add(Flatten())\n",
    "model.add(Dense(128))\n",
    "model.add(Activation('relu'))\n",
    "model.add(Dropout(0.5))\n",
    "model.add(Dense(3))\n",
    "model.add(Activation('softmax'))"
   ]
  },
  {
   "cell_type": "code",
   "execution_count": 7,
   "metadata": {
    "collapsed": true
   },
   "outputs": [],
   "source": [
    "from keras.optimizers import Adam\n",
    "\n",
    "model.compile(Adam (lr=.0001), loss='categorical_crossentropy', metrics=['accuracy'])"
   ]
  },
  {
   "cell_type": "code",
   "execution_count": 8,
   "metadata": {
    "collapsed": true
   },
   "outputs": [],
   "source": [
    "from keras.callbacks import EarlyStopping\n",
    "\n",
    "monitor = EarlyStopping(monitor='val_loss', min_delta=1e-3, patience=5, verbose=0, mode='auto')"
   ]
  },
  {
   "cell_type": "code",
   "execution_count": 9,
   "metadata": {
    "collapsed": false
   },
   "outputs": [
    {
     "name": "stdout",
     "output_type": "stream",
     "text": [
      "Epoch 1/70\n",
      "18/18 [==============================] - 37s 2s/step - loss: 1.0819 - acc: 0.3878 - val_loss: 1.0627 - val_acc: 0.3556\n",
      "Epoch 2/70\n",
      "18/18 [==============================] - 27s 1s/step - loss: 1.0397 - acc: 0.3933 - val_loss: 1.0326 - val_acc: 0.3578\n",
      "Epoch 3/70\n",
      "18/18 [==============================] - 27s 2s/step - loss: 0.9782 - acc: 0.5200 - val_loss: 0.9806 - val_acc: 0.3911\n",
      "Epoch 4/70\n",
      "18/18 [==============================] - 27s 1s/step - loss: 0.8671 - acc: 0.5944 - val_loss: 0.8789 - val_acc: 0.5200\n",
      "Epoch 5/70\n",
      "18/18 [==============================] - 27s 1s/step - loss: 0.7411 - acc: 0.6378 - val_loss: 0.8471 - val_acc: 0.5000\n",
      "Epoch 6/70\n",
      "18/18 [==============================] - 27s 1s/step - loss: 0.6565 - acc: 0.6611 - val_loss: 0.7992 - val_acc: 0.5156\n",
      "Epoch 7/70\n",
      "18/18 [==============================] - 27s 1s/step - loss: 0.6016 - acc: 0.6867 - val_loss: 0.8515 - val_acc: 0.4867\n",
      "Epoch 8/70\n",
      "18/18 [==============================] - 27s 2s/step - loss: 0.5668 - acc: 0.7167 - val_loss: 0.6462 - val_acc: 0.6689\n",
      "Epoch 9/70\n",
      "18/18 [==============================] - 27s 1s/step - loss: 0.5349 - acc: 0.7522 - val_loss: 0.7766 - val_acc: 0.5156\n",
      "Epoch 10/70\n",
      "18/18 [==============================] - 27s 1s/step - loss: 0.4836 - acc: 0.7956 - val_loss: 0.6457 - val_acc: 0.6578\n",
      "Epoch 11/70\n",
      "18/18 [==============================] - 28s 2s/step - loss: 0.4696 - acc: 0.8133 - val_loss: 0.5548 - val_acc: 0.7311\n",
      "Epoch 12/70\n",
      "18/18 [==============================] - 28s 2s/step - loss: 0.4352 - acc: 0.8233 - val_loss: 0.6122 - val_acc: 0.7156\n",
      "Epoch 13/70\n",
      "18/18 [==============================] - 32s 2s/step - loss: 0.4278 - acc: 0.8333 - val_loss: 0.5744 - val_acc: 0.7311\n",
      "Epoch 14/70\n",
      "18/18 [==============================] - 27s 1s/step - loss: 0.4010 - acc: 0.8378 - val_loss: 0.5434 - val_acc: 0.7244\n",
      "Epoch 15/70\n",
      "18/18 [==============================] - 27s 1s/step - loss: 0.3952 - acc: 0.8411 - val_loss: 0.6230 - val_acc: 0.6889\n",
      "Epoch 16/70\n",
      "18/18 [==============================] - 27s 1s/step - loss: 0.3571 - acc: 0.8533 - val_loss: 0.5856 - val_acc: 0.7022\n",
      "Epoch 17/70\n",
      "18/18 [==============================] - 27s 1s/step - loss: 0.3504 - acc: 0.8656 - val_loss: 0.5933 - val_acc: 0.6956\n",
      "Epoch 18/70\n",
      "18/18 [==============================] - 28s 2s/step - loss: 0.3361 - acc: 0.8767 - val_loss: 0.6534 - val_acc: 0.6911\n",
      "Epoch 19/70\n",
      "18/18 [==============================] - 28s 2s/step - loss: 0.3318 - acc: 0.8711 - val_loss: 0.6846 - val_acc: 0.6511\n",
      "Epoch 20/70\n",
      "18/18 [==============================] - 27s 1s/step - loss: 0.3401 - acc: 0.8767 - val_loss: 0.7498 - val_acc: 0.6111\n",
      "Epoch 21/70\n",
      "18/18 [==============================] - 32s 2s/step - loss: 0.3137 - acc: 0.8811 - val_loss: 0.7198 - val_acc: 0.6600\n",
      "Epoch 22/70\n",
      "18/18 [==============================] - 41s 2s/step - loss: 0.3366 - acc: 0.8711 - val_loss: 0.7018 - val_acc: 0.6600\n",
      "Epoch 23/70\n",
      "18/18 [==============================] - 28s 2s/step - loss: 0.3047 - acc: 0.8933 - val_loss: 0.7460 - val_acc: 0.6200\n",
      "Epoch 24/70\n",
      "18/18 [==============================] - 28s 2s/step - loss: 0.2966 - acc: 0.8900 - val_loss: 0.7588 - val_acc: 0.6133\n",
      "Epoch 25/70\n",
      "18/18 [==============================] - 27s 2s/step - loss: 0.2963 - acc: 0.8911 - val_loss: 0.7759 - val_acc: 0.6267\n",
      "Epoch 26/70\n",
      "18/18 [==============================] - 27s 1s/step - loss: 0.2823 - acc: 0.9022 - val_loss: 0.8279 - val_acc: 0.6422\n",
      "Epoch 27/70\n",
      "18/18 [==============================] - 27s 1s/step - loss: 0.2869 - acc: 0.8967 - val_loss: 0.8118 - val_acc: 0.6022\n",
      "Epoch 28/70\n",
      "18/18 [==============================] - 26s 1s/step - loss: 0.2666 - acc: 0.9067 - val_loss: 0.8894 - val_acc: 0.6133\n",
      "Epoch 29/70\n",
      "18/18 [==============================] - 42s 2s/step - loss: 0.2662 - acc: 0.9033 - val_loss: 0.8530 - val_acc: 0.5889\n",
      "Epoch 30/70\n",
      "18/18 [==============================] - 29s 2s/step - loss: 0.2797 - acc: 0.9022 - val_loss: 0.9450 - val_acc: 0.6133\n",
      "Epoch 31/70\n",
      "18/18 [==============================] - 27s 1s/step - loss: 0.2660 - acc: 0.9056 - val_loss: 0.9172 - val_acc: 0.6511\n",
      "Epoch 32/70\n",
      "18/18 [==============================] - 27s 1s/step - loss: 0.2623 - acc: 0.9022 - val_loss: 0.8960 - val_acc: 0.6000\n",
      "Epoch 33/70\n",
      "18/18 [==============================] - 35s 2s/step - loss: 0.2591 - acc: 0.9033 - val_loss: 0.9142 - val_acc: 0.6222\n",
      "Epoch 34/70\n",
      "18/18 [==============================] - 27s 2s/step - loss: 0.2452 - acc: 0.9122 - val_loss: 0.9717 - val_acc: 0.6444\n",
      "Epoch 35/70\n",
      "18/18 [==============================] - 28s 2s/step - loss: 0.2691 - acc: 0.9022 - val_loss: 1.0331 - val_acc: 0.6356\n",
      "Epoch 36/70\n",
      "18/18 [==============================] - 28s 2s/step - loss: 0.2553 - acc: 0.9044 - val_loss: 0.9394 - val_acc: 0.5711\n",
      "Epoch 37/70\n",
      "18/18 [==============================] - 46s 3s/step - loss: 0.2571 - acc: 0.9000 - val_loss: 0.9775 - val_acc: 0.6133\n",
      "Epoch 38/70\n",
      "18/18 [==============================] - 30s 2s/step - loss: 0.2428 - acc: 0.9189 - val_loss: 1.0167 - val_acc: 0.6022\n",
      "Epoch 39/70\n",
      "18/18 [==============================] - 29s 2s/step - loss: 0.2526 - acc: 0.9122 - val_loss: 1.0787 - val_acc: 0.5178\n",
      "Epoch 40/70\n",
      "18/18 [==============================] - 27s 2s/step - loss: 0.2536 - acc: 0.9044 - val_loss: 1.0374 - val_acc: 0.4978\n",
      "Epoch 41/70\n",
      "18/18 [==============================] - 55s 3s/step - loss: 0.2508 - acc: 0.9044 - val_loss: 0.9748 - val_acc: 0.5333\n",
      "Epoch 42/70\n",
      "18/18 [==============================] - 32s 2s/step - loss: 0.2430 - acc: 0.9144 - val_loss: 1.0761 - val_acc: 0.5711\n",
      "Epoch 43/70\n",
      "18/18 [==============================] - 34s 2s/step - loss: 0.2389 - acc: 0.9089 - val_loss: 1.0491 - val_acc: 0.5689\n",
      "Epoch 44/70\n",
      "18/18 [==============================] - 31s 2s/step - loss: 0.2353 - acc: 0.9189 - val_loss: 1.2088 - val_acc: 0.5733\n",
      "Epoch 45/70\n",
      "18/18 [==============================] - 35s 2s/step - loss: 0.2420 - acc: 0.9056 - val_loss: 1.0788 - val_acc: 0.5289\n",
      "Epoch 46/70\n",
      "18/18 [==============================] - 36s 2s/step - loss: 0.2454 - acc: 0.9100 - val_loss: 1.0547 - val_acc: 0.5178\n",
      "Epoch 47/70\n",
      "18/18 [==============================] - 35s 2s/step - loss: 0.2372 - acc: 0.9189 - val_loss: 1.1701 - val_acc: 0.5822\n",
      "Epoch 48/70\n",
      "18/18 [==============================] - 31s 2s/step - loss: 0.2284 - acc: 0.9156 - val_loss: 1.1512 - val_acc: 0.5489\n",
      "Epoch 49/70\n",
      "18/18 [==============================] - 28s 2s/step - loss: 0.2218 - acc: 0.9156 - val_loss: 1.2156 - val_acc: 0.5200\n",
      "Epoch 50/70\n",
      "18/18 [==============================] - 47s 3s/step - loss: 0.2323 - acc: 0.9089 - val_loss: 1.1510 - val_acc: 0.5222\n",
      "Epoch 51/70\n",
      "18/18 [==============================] - 28s 2s/step - loss: 0.2184 - acc: 0.9244 - val_loss: 1.2549 - val_acc: 0.5867\n",
      "Epoch 52/70\n",
      "18/18 [==============================] - 29s 2s/step - loss: 0.2255 - acc: 0.9189 - val_loss: 1.2857 - val_acc: 0.5444\n",
      "Epoch 53/70\n",
      "18/18 [==============================] - 31s 2s/step - loss: 0.2177 - acc: 0.9178 - val_loss: 1.2153 - val_acc: 0.4756\n",
      "Epoch 54/70\n",
      "18/18 [==============================] - 28s 2s/step - loss: 0.2236 - acc: 0.9244 - val_loss: 1.3080 - val_acc: 0.5533\n",
      "Epoch 55/70\n",
      "18/18 [==============================] - 38s 2s/step - loss: 0.2162 - acc: 0.9244 - val_loss: 1.3337 - val_acc: 0.5689\n",
      "Epoch 56/70\n",
      "18/18 [==============================] - 27s 2s/step - loss: 0.2131 - acc: 0.9189 - val_loss: 1.2807 - val_acc: 0.5244\n",
      "Epoch 57/70\n",
      "18/18 [==============================] - 38s 2s/step - loss: 0.2127 - acc: 0.9222 - val_loss: 1.3651 - val_acc: 0.5867\n",
      "Epoch 58/70\n",
      "18/18 [==============================] - 34s 2s/step - loss: 0.2187 - acc: 0.9222 - val_loss: 1.4207 - val_acc: 0.5911\n",
      "Epoch 59/70\n",
      "18/18 [==============================] - 27s 2s/step - loss: 0.2115 - acc: 0.9244 - val_loss: 1.3911 - val_acc: 0.5289\n",
      "Epoch 60/70\n",
      "18/18 [==============================] - 42s 2s/step - loss: 0.2081 - acc: 0.9222 - val_loss: 1.3990 - val_acc: 0.5067\n",
      "Epoch 61/70\n",
      "18/18 [==============================] - 28s 2s/step - loss: 0.2005 - acc: 0.9244 - val_loss: 1.3911 - val_acc: 0.4933\n",
      "Epoch 62/70\n",
      "18/18 [==============================] - 29s 2s/step - loss: 0.1994 - acc: 0.9189 - val_loss: 1.5889 - val_acc: 0.4778\n",
      "Epoch 63/70\n",
      "18/18 [==============================] - 30s 2s/step - loss: 0.2204 - acc: 0.9167 - val_loss: 1.6336 - val_acc: 0.5111\n",
      "Epoch 64/70\n",
      "18/18 [==============================] - 27s 2s/step - loss: 0.2087 - acc: 0.9167 - val_loss: 1.4278 - val_acc: 0.4889\n",
      "Epoch 65/70\n",
      "18/18 [==============================] - 29s 2s/step - loss: 0.2051 - acc: 0.9233 - val_loss: 1.4675 - val_acc: 0.4733\n",
      "Epoch 66/70\n",
      "18/18 [==============================] - 28s 2s/step - loss: 0.2087 - acc: 0.9211 - val_loss: 1.6258 - val_acc: 0.4422\n",
      "Epoch 67/70\n",
      "18/18 [==============================] - 28s 2s/step - loss: 0.2077 - acc: 0.9267 - val_loss: 1.7213 - val_acc: 0.4333\n",
      "Epoch 68/70\n",
      "18/18 [==============================] - 28s 2s/step - loss: 0.2024 - acc: 0.9244 - val_loss: 1.7217 - val_acc: 0.4600\n",
      "Epoch 69/70\n",
      "18/18 [==============================] - 28s 2s/step - loss: 0.2061 - acc: 0.9222 - val_loss: 1.5815 - val_acc: 0.4667\n",
      "Epoch 70/70\n",
      "18/18 [==============================] - 28s 2s/step - loss: 0.2020 - acc: 0.9189 - val_loss: 1.5399 - val_acc: 0.4578\n"
     ]
    }
   ],
   "source": [
    "#Train\n",
    "history = model.fit_generator(train_generator,\n",
    "steps_per_epoch=num_of_train_samples // batch_size,\n",
    "epochs=epochs,\n",
    "validation_data=validation_generator,\n",
    "validation_steps=num_of_test_samples // batch_size)"
   ]
  },
  {
   "cell_type": "code",
   "execution_count": 10,
   "metadata": {
    "collapsed": false
   },
   "outputs": [
    {
     "data": {
      "image/png": "[encoded data removed]",
      "text/plain": [
       "<Figure size 432x288 with 1 Axes>"
      ]
     },
     "metadata": {},
     "output_type": "display_data"
    },
    {
     "data": {
      "image/png": "[encoded data removed]",
      "text/plain": [
       "<Figure size 432x288 with 1 Axes>"
      ]
     },
     "metadata": {},
     "output_type": "display_data"
    }
   ],
   "source": [
    "acc = history.history['acc']\n",
    "val_acc = history.history['val_acc']\n",
    "loss = history.history['loss']\n",
    "val_loss = history.history['val_loss']\n",
    "\n",
    "epochs = range(1, len(acc) + 1)\n",
    "\n",
    "plt.plot(epochs, acc, 'bo', label='Training acc')\n",
    "plt.plot(epochs, val_acc, 'b', label='Validation acc')\n",
    "plt.title('Training and validation accuracy')\n",
    "plt.legend()\n",
    "\n",
    "plt.figure()\n",
    "\n",
    "plt.plot(epochs, loss, 'bo', label='Training loss')\n",
    "plt.plot(epochs, val_loss, 'b', label='Validation loss')\n",
    "plt.title('Training and validation loss')\n",
    "plt.legend()\n",
    "\n",
    "plt.show()"
   ]
  },
  {
   "cell_type": "code",
   "execution_count": 11,
   "metadata": {
    "collapsed": true
   },
   "outputs": [],
   "source": [
    "test_labels = test_generator.classes"
   ]
  },
  {
   "cell_type": "code",
   "execution_count": 12,
   "metadata": {
    "collapsed": true
   },
   "outputs": [],
   "source": [
    "predictions = model.predict_generator(test_generator, steps=9, verbose=0)"
   ]
  },
  {
   "cell_type": "code",
   "execution_count": 13,
   "metadata": {
    "collapsed": true
   },
   "outputs": [],
   "source": [
    "def plot_confusion_matrix(cm, classes, normalize=False, title='Confusion Matrix', cmap=plt.cm.Blues):\n",
    "    '''This fnctn prints and plots cm, normalization can be applied by setting 'normalize=True'. ''' \n",
    "    plt.imshow (cm, interpolation='nearest', cmap=cmap)\n",
    "    plt.title(title)\n",
    "    plt.colorbar()\n",
    "    tick_marks=np.arange(len(classes))\n",
    "    plt.xticks(tick_marks, classes, rotation=45)\n",
    "    plt.yticks(tick_marks, classes)\n",
    "    \n",
    "    if normalize:\n",
    "        cm=cm.astype('float')/cm.sum(axis=1)[:,np.newaxis]\n",
    "        print('Normalized Confusion Matrix')\n",
    "    else:\n",
    "        print('Confusion Matrix Without Normalization')\n",
    "    print(cm)\n",
    "    \n",
    "    \n",
    "    thresh = cm.max()/2.\n",
    "    for i,j in itertools.product(range(cm.shape[0]), range(cm.shape[1])):\n",
    "        plt.text(j,i,cm[i,j], horizontalalignment=\"center\", color=\"white\" if cm [i,j]>thresh else \"black\")\n",
    "    \n",
    "    plt.tight_layout\n",
    "    plt.ylabel('True label')\n",
    "    plt.xlabel('Predicted label')"
   ]
  },
  {
   "cell_type": "code",
   "execution_count": 14,
   "metadata": {
    "collapsed": true
   },
   "outputs": [],
   "source": [
    "cm = confusion_matrix(test_labels, predictions.argmax(axis=1))"
   ]
  },
  {
   "cell_type": "code",
   "execution_count": 15,
   "metadata": {
    "collapsed": false
   },
   "outputs": [
    {
     "name": "stdout",
     "output_type": "stream",
     "text": [
      "Confusion Matrix Without Normalization\n",
      "[[150   0   0]\n",
      " [ 42  43  72]\n",
      " [  9  35  99]]\n"
     ]
    },
    {
     "data": {
      "image/png": "[encoded data removed]",
      "text/plain": [
       "<Figure size 432x288 with 2 Axes>"
      ]
     },
     "metadata": {},
     "output_type": "display_data"
    }
   ],
   "source": [
    "cm_plot_labels = ['cropland', 'bulding', 'uncultivatedLand']\n",
    "plot_confusion_matrix(cm, cm_plot_labels, title = 'Confusion Matrix')"
   ]
  },
  {
   "cell_type": "code",
   "execution_count": 16,
   "metadata": {
    "collapsed": true
   },
   "outputs": [],
   "source": [
    "from sklearn.metrics import classification_report"
   ]
  },
  {
   "cell_type": "code",
   "execution_count": 17,
   "metadata": {
    "collapsed": false
   },
   "outputs": [
    {
     "name": "stdout",
     "output_type": "stream",
     "text": [
      "                  precision    recall  f1-score   support\n",
      "\n",
      "        building       0.75      1.00      0.85       150\n",
      "        cropland       0.55      0.27      0.37       157\n",
      "uncultivatedLand       0.58      0.69      0.63       143\n",
      "\n",
      "     avg / total       0.63      0.65      0.61       450\n",
      "\n"
     ]
    }
   ],
   "source": [
    "target_names = ['building', 'cropland', 'uncultivatedLand']\n",
    "print(classification_report(test_labels, predictions.argmax(axis=1), target_names=target_names))"
   ]
  },
  {
   "cell_type": "code",
   "execution_count": 18,
   "metadata": {
    "collapsed": false
   },
   "outputs": [
    {
     "name": "stdout",
     "output_type": "stream",
     "text": [
      "test acc: 0.6488888892862532\n"
     ]
    }
   ],
   "source": [
    "test_loss, test_acc = model.evaluate_generator(test_generator, steps=9)\n",
    "print('test acc:', test_acc)"
   ]
  },
  {
   "cell_type": "code",
   "execution_count": null,
   "metadata": {
    "collapsed": true
   },
   "outputs": [],
   "source": []
  }
 ],
 "metadata": {
  "kernelspec": {
   "display_name": "Python 3",
   "language": "python",
   "name": "python3"
  },
  "language_info": {
   "codemirror_mode": {
    "name": "ipython",
    "version": 3
   },
   "file_extension": ".py",
   "mimetype": "text/x-python",
   "name": "python",
   "nbconvert_exporter": "python",
   "pygments_lexer": "ipython3",
   "version": "3.6.0"
  }
 },
 "nbformat": 4,
 "nbformat_minor": 2
}
