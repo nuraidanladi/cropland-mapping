{
 "cells": [
  {
   "cell_type": "code",
   "execution_count": 1,
   "metadata": {
    "collapsed": false
   },
   "outputs": [
    {
     "name": "stderr",
     "output_type": "stream",
     "text": [
      "/home/nuru/.local/share/virtualenvs/deepLearn-tC2glvHT/lib/python3.6/site-packages/h5py/__init__.py:36: FutureWarning: Conversion of the second argument of issubdtype from `float` to `np.floating` is deprecated. In future, it will be treated as `np.float64 == np.dtype(float).type`.\n",
      "  from ._conv import register_converters as _register_converters\n",
      "Using TensorFlow backend.\n"
     ]
    }
   ],
   "source": [
    "import numpy as np\n",
    "from keras import backend as K\n",
    "from keras.models import Sequential\n",
    "from keras.layers.core import Dense, Dropout, Activation, Flatten\n",
    "from keras.layers.convolutional import Convolution2D, MaxPooling2D\n",
    "from keras.preprocessing.image import ImageDataGenerator\n",
    "from keras.metrics import categorical_crossentropy\n",
    "from keras.layers.normalization import BatchNormalization\n",
    "from sklearn.metrics import classification_report, confusion_matrix\n",
    "import itertools\n",
    "import matplotlib.pyplot as plt\n",
    "%matplotlib inline"
   ]
  },
  {
   "cell_type": "code",
   "execution_count": 21,
   "metadata": {
    "collapsed": true
   },
   "outputs": [],
   "source": [
    "#Start\n",
    "train_data_dir = 'data/train'\n",
    "validation_data_dir = 'data/validation'\n",
    "test_data_dir = 'data/test'\n",
    "img_rows = 64\n",
    "img_cols = 64\n",
    "epochs = 25\n",
    "batch_size = 50\n",
    "num_of_train_samples = 600\n",
    "num_of_test_samples = 300\n",
    "num_of_validation_samples = 300"
   ]
  },
  {
   "cell_type": "code",
   "execution_count": 22,
   "metadata": {
    "collapsed": true
   },
   "outputs": [],
   "source": [
    "train_datagen = ImageDataGenerator(rescale=1./255)\n",
    "validation_datagen = ImageDataGenerator(rescale=1./255)\n",
    "test_datagen = ImageDataGenerator(rescale=1./255)"
   ]
  },
  {
   "cell_type": "code",
   "execution_count": 23,
   "metadata": {
    "collapsed": true
   },
   "outputs": [],
   "source": [
    "#Image Generator\n",
    "train_datagen = ImageDataGenerator(rescale=1. / 255,\n",
    "rotation_range=40,\n",
    "width_shift_range=0.2,\n",
    "height_shift_range=0.2,\n",
    "shear_range=0.2,\n",
    "zoom_range=0.2,\n",
    "horizontal_flip=True,\n",
    "fill_mode='nearest')"
   ]
  },
  {
   "cell_type": "code",
   "execution_count": 24,
   "metadata": {
    "collapsed": false
   },
   "outputs": [
    {
     "name": "stdout",
     "output_type": "stream",
     "text": [
      "Found 600 images belonging to 2 classes.\n",
      "Found 300 images belonging to 2 classes.\n",
      "Found 300 images belonging to 2 classes.\n"
     ]
    }
   ],
   "source": [
    "train_generator = train_datagen.flow_from_directory(train_data_dir, target_size=(img_rows, img_cols), batch_size=batch_size, class_mode='categorical')\n",
    "validation_generator = validation_datagen.flow_from_directory(validation_data_dir, target_size=(img_rows, img_cols), batch_size=batch_size, shuffle=False)\n",
    "#class_mode='categorical')\n",
    "test_generator = test_datagen.flow_from_directory(test_data_dir, target_size=(img_rows, img_cols), batch_size=batch_size, shuffle=False)\n",
    "#class_mode='categorical')"
   ]
  },
  {
   "cell_type": "code",
   "execution_count": 25,
   "metadata": {
    "collapsed": true
   },
   "outputs": [],
   "source": [
    "# Build model\n",
    "model = Sequential()\n",
    "model.add(Convolution2D(32, (3, 3), input_shape=(img_rows, img_cols, 3), padding='valid'))\n",
    "model.add(Activation('relu'))\n",
    "model.add(MaxPooling2D(pool_size=(2, 2)))\n",
    "\n",
    "model.add(Convolution2D(32, (3, 3), padding='valid'))\n",
    "model.add(Activation('relu'))\n",
    "model.add(MaxPooling2D(pool_size=(2, 2)))\n",
    "\n",
    "model.add(Convolution2D(64, (3, 3), padding='valid'))\n",
    "model.add(Activation('relu'))\n",
    "model.add(MaxPooling2D(pool_size=(2, 2)))\n",
    "model.add(Dropout(0.5))\n",
    "\n",
    "model.add(Flatten())\n",
    "model.add(Dense(128))\n",
    "model.add(Activation('relu'))\n",
    "model.add(Dropout(0.5))\n",
    "model.add(Dense(2))\n",
    "model.add(Activation('softmax'))"
   ]
  },
  {
   "cell_type": "code",
   "execution_count": 26,
   "metadata": {
    "collapsed": true
   },
   "outputs": [],
   "source": [
    "from keras.optimizers import Adam\n",
    "\n",
    "model.compile(Adam (lr=.0001), loss='categorical_crossentropy', metrics=['accuracy'])"
   ]
  },
  {
   "cell_type": "code",
   "execution_count": 27,
   "metadata": {
    "collapsed": true
   },
   "outputs": [],
   "source": [
    "#from keras.callbacks import EarlyStopping\n",
    "\n",
    "#monitor = EarlyStopping(monitor='val_loss', min_delta=1e-3, patience=5, verbose=0, mode='auto')"
   ]
  },
  {
   "cell_type": "code",
   "execution_count": 28,
   "metadata": {
    "collapsed": false
   },
   "outputs": [
    {
     "name": "stdout",
     "output_type": "stream",
     "text": [
      "Epoch 1/25\n",
      "12/12 [==============================] - 20s 2s/step - loss: 0.6681 - acc: 0.5033 - val_loss: 0.6633 - val_acc: 0.5000\n",
      "Epoch 2/25\n",
      "12/12 [==============================] - 18s 2s/step - loss: 0.6484 - acc: 0.5000 - val_loss: 0.6569 - val_acc: 0.5000\n",
      "Epoch 3/25\n",
      "12/12 [==============================] - 33s 3s/step - loss: 0.6190 - acc: 0.5000 - val_loss: 0.6321 - val_acc: 0.5000\n",
      "Epoch 4/25\n",
      "12/12 [==============================] - 32s 3s/step - loss: 0.5733 - acc: 0.5433 - val_loss: 0.5751 - val_acc: 0.5033\n",
      "Epoch 5/25\n",
      "12/12 [==============================] - 19s 2s/step - loss: 0.5004 - acc: 0.7567 - val_loss: 0.4846 - val_acc: 0.6333\n",
      "Epoch 6/25\n",
      "12/12 [==============================] - 20s 2s/step - loss: 0.4100 - acc: 0.9050 - val_loss: 0.4752 - val_acc: 0.6600\n",
      "Epoch 7/25\n",
      "12/12 [==============================] - 20s 2s/step - loss: 0.3191 - acc: 0.9167 - val_loss: 0.4025 - val_acc: 0.7633\n",
      "Epoch 8/25\n",
      "12/12 [==============================] - 20s 2s/step - loss: 0.2487 - acc: 0.9167 - val_loss: 0.4214 - val_acc: 0.7700\n",
      "Epoch 9/25\n",
      "12/12 [==============================] - 21s 2s/step - loss: 0.2091 - acc: 0.9333 - val_loss: 0.2309 - val_acc: 0.8900\n",
      "Epoch 10/25\n",
      "12/12 [==============================] - 20s 2s/step - loss: 0.1661 - acc: 0.9400 - val_loss: 0.1600 - val_acc: 0.9333\n",
      "Epoch 11/25\n",
      "12/12 [==============================] - 21s 2s/step - loss: 0.1417 - acc: 0.9483 - val_loss: 0.2900 - val_acc: 0.8567\n",
      "Epoch 12/25\n",
      "12/12 [==============================] - 21s 2s/step - loss: 0.1095 - acc: 0.9617 - val_loss: 0.2184 - val_acc: 0.8933\n",
      "Epoch 13/25\n",
      "12/12 [==============================] - 23s 2s/step - loss: 0.0924 - acc: 0.9600 - val_loss: 0.2981 - val_acc: 0.8567\n",
      "Epoch 14/25\n",
      "12/12 [==============================] - 21s 2s/step - loss: 0.0951 - acc: 0.9683 - val_loss: 0.3089 - val_acc: 0.8633\n",
      "Epoch 15/25\n",
      "12/12 [==============================] - 20s 2s/step - loss: 0.0985 - acc: 0.9600 - val_loss: 0.0477 - val_acc: 0.9900\n",
      "Epoch 16/25\n",
      "12/12 [==============================] - 21s 2s/step - loss: 0.1034 - acc: 0.9700 - val_loss: 0.1856 - val_acc: 0.9067\n",
      "Epoch 17/25\n",
      "12/12 [==============================] - 20s 2s/step - loss: 0.0766 - acc: 0.9717 - val_loss: 0.2231 - val_acc: 0.8900\n",
      "Epoch 18/25\n",
      "12/12 [==============================] - 21s 2s/step - loss: 0.0612 - acc: 0.9833 - val_loss: 0.1288 - val_acc: 0.9433\n",
      "Epoch 19/25\n",
      "12/12 [==============================] - 21s 2s/step - loss: 0.0667 - acc: 0.9800 - val_loss: 0.1453 - val_acc: 0.9367\n",
      "Epoch 20/25\n",
      "12/12 [==============================] - 21s 2s/step - loss: 0.0558 - acc: 0.9850 - val_loss: 0.2387 - val_acc: 0.8933\n",
      "Epoch 21/25\n",
      "12/12 [==============================] - 20s 2s/step - loss: 0.0641 - acc: 0.9800 - val_loss: 0.1217 - val_acc: 0.9433\n",
      "Epoch 22/25\n",
      "12/12 [==============================] - 21s 2s/step - loss: 0.0591 - acc: 0.9783 - val_loss: 0.0794 - val_acc: 0.9700\n",
      "Epoch 23/25\n",
      "12/12 [==============================] - 21s 2s/step - loss: 0.0614 - acc: 0.9817 - val_loss: 0.1752 - val_acc: 0.9133\n",
      "Epoch 24/25\n",
      "12/12 [==============================] - 21s 2s/step - loss: 0.0582 - acc: 0.9817 - val_loss: 0.1850 - val_acc: 0.9067\n",
      "Epoch 25/25\n",
      "12/12 [==============================] - 21s 2s/step - loss: 0.0577 - acc: 0.9800 - val_loss: 0.1962 - val_acc: 0.9033\n"
     ]
    }
   ],
   "source": [
    "#Train\n",
    "history = model.fit_generator(train_generator,\n",
    "steps_per_epoch=num_of_train_samples // batch_size,\n",
    "epochs=epochs,\n",
    "validation_data=validation_generator,\n",
    "validation_steps=num_of_test_samples // batch_size)"
   ]
  },
  {
   "cell_type": "code",
   "execution_count": 29,
   "metadata": {
    "collapsed": false
   },
   "outputs": [
    {
     "data": {
      "image/png": "[encoded data removed]",
      "text/plain": [
       "<Figure size 432x288 with 1 Axes>"
      ]
     },
     "metadata": {},
     "output_type": "display_data"
    },
    {
     "data": {
      "image/png": "[encoded data removed]",
      "text/plain": [
       "<Figure size 432x288 with 1 Axes>"
      ]
     },
     "metadata": {},
     "output_type": "display_data"
    }
   ],
   "source": [
    "acc = history.history['acc']\n",
    "val_acc = history.history['val_acc']\n",
    "loss = history.history['loss']\n",
    "val_loss = history.history['val_loss']\n",
    "\n",
    "epochs = range(1, len(acc) + 1)\n",
    "\n",
    "plt.plot(epochs, acc, 'bo', label='Training acc')\n",
    "plt.plot(epochs, val_acc, 'b', label='Validation acc')\n",
    "plt.title('Training and validation accuracy')\n",
    "plt.legend()\n",
    "plt.xlabel('Number of Epochs')\n",
    "plt.ylabel('Accuracy')\n",
    "\n",
    "\n",
    "plt.figure()\n",
    "\n",
    "plt.plot(epochs, loss, 'bo', label='Training loss')\n",
    "plt.plot(epochs, val_loss, 'b', label='Validation loss')\n",
    "plt.title('Training and validation loss')\n",
    "plt.legend()\n",
    "plt.xlabel('Number of Epochs')\n",
    "plt.ylabel('Loss')\n",
    "\n",
    "plt.show()"
   ]
  },
  {
   "cell_type": "code",
   "execution_count": 30,
   "metadata": {
    "collapsed": true
   },
   "outputs": [],
   "source": [
    "test_labels = test_generator.classes"
   ]
  },
  {
   "cell_type": "code",
   "execution_count": 31,
   "metadata": {
    "collapsed": true
   },
   "outputs": [],
   "source": [
    "predictions = model.predict_generator(test_generator, steps=6, verbose=0)"
   ]
  },
  {
   "cell_type": "code",
   "execution_count": 32,
   "metadata": {
    "collapsed": true
   },
   "outputs": [],
   "source": [
    "def plot_confusion_matrix(cm, classes, normalize=False, title='Confusion Matrix', cmap=plt.cm.Blues):\n",
    "    '''This fnctn prints and plots cm, normalization can be applied by setting 'normalize=True'. ''' \n",
    "    plt.imshow (cm, interpolation='nearest', cmap=cmap)\n",
    "    plt.title(title)\n",
    "    plt.colorbar()\n",
    "    tick_marks=np.arange(len(classes))\n",
    "    plt.xticks(tick_marks, classes, rotation=45)\n",
    "    plt.yticks(tick_marks, classes)\n",
    "    \n",
    "    if normalize:\n",
    "        cm=cm.astype('float')/cm.sum(axis=1)[:,np.newaxis]\n",
    "        print('Normalized Confusion Matrix')\n",
    "    else:\n",
    "        print('Confusion Matrix Without Normalization')\n",
    "    print(cm)\n",
    "    \n",
    "    \n",
    "    thresh = cm.max()/2.\n",
    "    for i,j in itertools.product(range(cm.shape[0]), range(cm.shape[1])):\n",
    "        plt.text(j,i,cm[i,j], horizontalalignment=\"center\", color=\"white\" if cm [i,j]>thresh else \"black\")\n",
    "    \n",
    "    plt.tight_layout\n",
    "    plt.ylabel('True label')\n",
    "    plt.xlabel('Predicted label')"
   ]
  },
  {
   "cell_type": "code",
   "execution_count": 33,
   "metadata": {
    "collapsed": true
   },
   "outputs": [],
   "source": [
    "cm = confusion_matrix(test_labels, predictions.argmax(axis=1))"
   ]
  },
  {
   "cell_type": "code",
   "execution_count": 35,
   "metadata": {
    "collapsed": false
   },
   "outputs": [
    {
     "name": "stdout",
     "output_type": "stream",
     "text": [
      "Confusion Matrix Without Normalization\n",
      "[[150   0]\n",
      " [ 73  77]]\n"
     ]
    },
    {
     "data": {
      "image/png": "[encoded data removed]",
      "text/plain": [
       "<Figure size 432x288 with 2 Axes>"
      ]
     },
     "metadata": {},
     "output_type": "display_data"
    }
   ],
   "source": [
    "cm_plot_labels = ['cropland', 'bulding']\n",
    "plot_confusion_matrix(cm, cm_plot_labels, title = 'Confusion Matrix')"
   ]
  },
  {
   "cell_type": "code",
   "execution_count": 36,
   "metadata": {
    "collapsed": true
   },
   "outputs": [],
   "source": [
    "from sklearn.metrics import classification_report"
   ]
  },
  {
   "cell_type": "code",
   "execution_count": 37,
   "metadata": {
    "collapsed": false
   },
   "outputs": [
    {
     "name": "stdout",
     "output_type": "stream",
     "text": [
      "                  precision    recall  f1-score   support\n",
      "\n",
      "        building       0.67      1.00      0.80       150\n",
      "        cropland       1.00      0.51      0.68       150\n",
      "\n",
      "     avg / total       0.84      0.76      0.74       300\n",
      "\n"
     ]
    },
    {
     "name": "stderr",
     "output_type": "stream",
     "text": [
      "/home/nuru/.local/share/virtualenvs/deepLearn-tC2glvHT/lib/python3.6/site-packages/sklearn/metrics/classification.py:1428: UserWarning: labels size, 2, does not match size of target_names, 3\n",
      "  .format(len(labels), len(target_names))\n"
     ]
    }
   ],
   "source": [
    "target_names = ['building', 'cropland']\n",
    "print(classification_report(test_labels, predictions.argmax(axis=1), target_names=target_names))"
   ]
  },
  {
   "cell_type": "code",
   "execution_count": 38,
   "metadata": {
    "collapsed": false
   },
   "outputs": [
    {
     "name": "stdout",
     "output_type": "stream",
     "text": [
      "test acc: 0.8377777751949098\n"
     ]
    }
   ],
   "source": [
    "test_loss, test_acc = model.evaluate_generator(test_generator, steps=9)\n",
    "print('test acc:', test_acc)"
   ]
  }
 ],
 "metadata": {
  "kernelspec": {
   "display_name": "Python 3",
   "language": "python",
   "name": "python3"
  },
  "language_info": {
   "codemirror_mode": {
    "name": "ipython",
    "version": 3
   },
   "file_extension": ".py",
   "mimetype": "text/x-python",
   "name": "python",
   "nbconvert_exporter": "python",
   "pygments_lexer": "ipython3",
   "version": "3.6.0"
  }
 },
 "nbformat": 4,
 "nbformat_minor": 2
}
